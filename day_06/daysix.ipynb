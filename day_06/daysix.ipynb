{
 "cells": [
  {
   "cell_type": "code",
   "execution_count": null,
   "metadata": {},
   "outputs": [],
   "source": [
    "# Day 6"
   ]
  },
  {
   "cell_type": "code",
   "execution_count": 1,
   "metadata": {},
   "outputs": [],
   "source": [
    "import numpy as np\n",
    "from numba import njit\n"
   ]
  },
  {
   "cell_type": "code",
   "execution_count": 2,
   "metadata": {},
   "outputs": [],
   "source": [
    "@njit(parallel=True, fastmath=True)\n",
    "def next_day(array: np.array):\n",
    "    mask = np.where(array == 0)\n",
    "    array = array - 1\n",
    "    array[mask] = 6\n",
    "    # print(mask, array)\n",
    "    for _ in range(len(mask[0])):\n",
    "        array = np.append(array, 8)\n",
    "    return array"
   ]
  },
  {
   "cell_type": "markdown",
   "metadata": {},
   "source": [
    "## Test"
   ]
  },
  {
   "cell_type": "code",
   "execution_count": 3,
   "metadata": {},
   "outputs": [
    {
     "data": {
      "text/plain": [
       "5934"
      ]
     },
     "execution_count": 3,
     "metadata": {},
     "output_type": "execute_result"
    }
   ],
   "source": [
    "arr = np.array([3, 4, 3, 1, 2], dtype=int)\n",
    "for day in range(80):\n",
    "    arr = next_day(arr)\n",
    "    # print(day + 1, arr)\n",
    "len(arr)"
   ]
  },
  {
   "cell_type": "code",
   "execution_count": 4,
   "metadata": {},
   "outputs": [
    {
     "name": "stdout",
     "output_type": "stream",
     "text": [
      "[3 4 1 1 5 1 3 1 1 3 5 1 1 5 3 2 4 2 2 2 1 1 1 1 5 1 1 1 1 1 3 1 1 5 4 1 1\n",
      " 1 4 1 1 1 1 2 3 2 5 1 5 1 2 1 1 1 4 1 1 1 1 3 1 1 3 1 1 1 1 1 1 2 3 4 2 1\n",
      " 3 1 1 2 1 1 2 1 5 2 1 1 1 1 1 1 4 1 1 1 1 5 1 4 1 1 1 3 3 1 3 1 3 1 4 1 1\n",
      " 1 1 1 4 5 1 1 3 2 2 5 5 4 3 1 2 1 1 1 4 1 3 4 1 1 1 1 2 1 1 3 2 1 1 1 1 1\n",
      " 4 1 1 1 4 4 5 2 1 1 1 1 1 2 4 2 1 1 1 2 1 1 2 1 5 1 5 2 5 5 1 1 3 1 4 1 1\n",
      " 1 1 1 1 1 4 1 1 4 1 1 1 1 1 2 1 2 1 1 1 5 1 1 3 5 1 1 5 5 3 5 3 4 1 1 1 3\n",
      " 1 1 3 1 1 1 1 1 1 5 1 3 1 5 1 1 4 1 3 1 1 1 2 1 1 1 2 1 5 1 1 1 1 4 1 3 2\n",
      " 3 4 1 3 5 3 4 1 4 4 4 1 3 2 4 1 4 1 1 2 1 3 1 5 5 1 5 1 1 1 5 2 1 2 3 1 4\n",
      " 3 3 4 3]\n"
     ]
    }
   ],
   "source": [
    "with open(\"input\") as f:\n",
    "    fish_data = np.array(f.readline().split(\",\"), dtype=\"int\")\n",
    "print(fish_data)\n"
   ]
  },
  {
   "cell_type": "code",
   "execution_count": 5,
   "metadata": {},
   "outputs": [
    {
     "name": "stdout",
     "output_type": "stream",
     "text": [
      "1 300\n",
      "11 1008\n",
      "21 2242\n",
      "31 4940\n",
      "41 12760\n",
      "51 29560\n",
      "61 71386\n",
      "71 172324\n"
     ]
    },
    {
     "data": {
      "text/plain": [
       "379414"
      ]
     },
     "execution_count": 5,
     "metadata": {},
     "output_type": "execute_result"
    }
   ],
   "source": [
    "data = []\n",
    "arr = fish_data.copy()\n",
    "for day in range(80):\n",
    "    # arr = arr - 1\n",
    "    arr = next_day(arr)\n",
    "    data.append({\"day\": day + 1, \"size\": len(arr)})\n",
    "    if day % 10 == 0:\n",
    "        print(day + 1, len(arr))\n",
    "\n",
    "len(arr)\n"
   ]
  },
  {
   "cell_type": "code",
   "execution_count": 8,
   "metadata": {},
   "outputs": [
    {
     "data": {
      "text/plain": [
       "<AxesSubplot:xlabel='day'>"
      ]
     },
     "execution_count": 8,
     "metadata": {},
     "output_type": "execute_result"
    },
    {
     "data": {
      "image/png": "[encoded data removed]",
      "text/plain": [
       "<Figure size 432x288 with 1 Axes>"
      ]
     },
     "metadata": {
      "needs_background": "light"
     },
     "output_type": "display_data"
    },
    {
     "data": {
      "image/png": "[encoded data removed]",
      "text/plain": [
       "<Figure size 432x288 with 1 Axes>"
      ]
     },
     "metadata": {
      "needs_background": "light"
     },
     "output_type": "display_data"
    }
   ],
   "source": [
    "import pandas as pd\n",
    "\n",
    "df = pd.DataFrame(data).set_index(\"day\")\n",
    "df.plot()\n",
    "df.diff().plot()\n"
   ]
  },
  {
   "cell_type": "markdown",
   "metadata": {},
   "source": [
    "The plots where not as accurate as I would have liked"
   ]
  },
  {
   "cell_type": "code",
   "execution_count": 9,
   "metadata": {},
   "outputs": [
    {
     "data": {
      "text/plain": [
       "1705008653296"
      ]
     },
     "execution_count": 9,
     "metadata": {},
     "output_type": "execute_result"
    }
   ],
   "source": [
    "from collections import Counter\n",
    "\n",
    "life_times = dict(Counter(fish_data.copy()))\n",
    "for day in range(256):\n",
    "    ## shift all values down\n",
    "    life_times = {\n",
    "        l: (0 if life_times.get(l + 1) is None else life_times[l + 1])\n",
    "        for l in range(-1, 8)\n",
    "    }\n",
    "    life_times[8] = life_times[-1]  ## life times at ix -1 will have all zeros\n",
    "    life_times[6] += life_times[-1]  ## the zeros need to be added the sixes\n",
    "    life_times[-1] = 0  ## reset 0s\n",
    "\n",
    "sum(life_times.values())\n"
   ]
  },
  {
   "cell_type": "code",
   "execution_count": null,
   "metadata": {},
   "outputs": [],
   "source": []
  }
 ],
 "metadata": {
  "interpreter": {
   "hash": "e7370f93d1d0cde622a1f8e1c04877d8463912d04d973331ad4851f04de6915a"
  },
  "kernelspec": {
   "display_name": "Python 3.9.9 64-bit",
   "language": "python",
   "name": "python3"
  },
  "language_info": {
   "codemirror_mode": {
    "name": "ipython",
    "version": 3
   },
   "file_extension": ".py",
   "mimetype": "text/x-python",
   "name": "python",
   "nbconvert_exporter": "python",
   "pygments_lexer": "ipython3",
   "version": "3.9.9"
  },
  "orig_nbformat": 4
 },
 "nbformat": 4,
 "nbformat_minor": 2
}
