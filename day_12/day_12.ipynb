{
 "cells": [
  {
   "cell_type": "code",
   "execution_count": 31,
   "metadata": {},
   "outputs": [],
   "source": [
    "\n",
    "class Solver:\n",
    "    def __init__(self, data):\n",
    "        self.neighbors = {}\n",
    "        self.data = data\n",
    "        self.visited = set()\n",
    "\n",
    "        self.prepare_paths()\n",
    "\n",
    "    def prepare_paths(self):\n",
    "        for d in self.data:\n",
    "            l,r = d.split(\"-\")\n",
    "            if self.neighbors.get(l):\n",
    "                self.neighbors[l].append(r)\n",
    "            else:\n",
    "                self.neighbors[l] = [r]\n",
    "            if self.neighbors.get(r):\n",
    "                self.neighbors[r].append(l)\n",
    "            else:\n",
    "                self.neighbors[r]=[l]\n",
    "\n",
    "    def solve(self, curr_cave=\"start\"):\n",
    "        ways_count = 0\n",
    "        if (curr_cave==\"end\"):\n",
    "            return 1\n",
    "        if curr_cave.islower():\n",
    "            self.visited.add(curr_cave)\n",
    "\n",
    "        for cave in self.neighbors[curr_cave]:\n",
    "            if cave not in self.visited:\n",
    "                ways_count += self.solve(cave)\n",
    "\n",
    "        self.visited.discard(curr_cave)\n",
    "\n",
    "        return ways_count\n",
    "\n",
    "    def solve_2(self, curr_cave=\"start\", part=None):\n",
    "        ways_count = 0\n",
    "        if (curr_cave==\"end\"):\n",
    "            return 1\n",
    "        if curr_cave.islower():\n",
    "            self.visited.add(curr_cave)\n",
    "\n",
    "        for cave in self.neighbors[curr_cave]:\n",
    "            if cave not in self.visited:\n",
    "                ways_count += self.solve_2(cave, part)\n",
    "\n",
    "        if part == None:\n",
    "            for cave in self.neighbors[curr_cave]:\n",
    "                if cave in self.visited and cave != \"start\":\n",
    "                        ways_count += self.solve_2(cave, cave)\n",
    "        \n",
    "        if (curr_cave != part): \n",
    "            self.visited.discard(curr_cave)\n",
    "\n",
    "        return ways_count\n"
   ]
  },
  {
   "cell_type": "code",
   "execution_count": 32,
   "metadata": {},
   "outputs": [
    {
     "data": {
      "text/plain": [
       "4378"
      ]
     },
     "execution_count": 32,
     "metadata": {},
     "output_type": "execute_result"
    }
   ],
   "source": [
    "with open('input') as file:\n",
    "    ln = [f.strip() for f in file.readlines()]\n",
    "\n",
    "s = Solver(ln)\n",
    "\n",
    "s.solve()"
   ]
  },
  {
   "cell_type": "code",
   "execution_count": 33,
   "metadata": {},
   "outputs": [
    {
     "data": {
      "text/plain": [
       "133621"
      ]
     },
     "execution_count": 33,
     "metadata": {},
     "output_type": "execute_result"
    }
   ],
   "source": [
    "s.solve_2()"
   ]
  },
  {
   "cell_type": "code",
   "execution_count": null,
   "metadata": {},
   "outputs": [],
   "source": []
  }
 ],
 "metadata": {
  "interpreter": {
   "hash": "d2152fd7f0bbc62aa1baff8c990435d1e2c7175d001561303988032604c11a48"
  },
  "kernelspec": {
   "display_name": "Python 3.10.1 64-bit",
   "language": "python",
   "name": "python3"
  },
  "language_info": {
   "codemirror_mode": {
    "name": "ipython",
    "version": 3
   },
   "file_extension": ".py",
   "mimetype": "text/x-python",
   "name": "python",
   "nbconvert_exporter": "python",
   "pygments_lexer": "ipython3",
   "version": "3.10.1"
  },
  "orig_nbformat": 4
 },
 "nbformat": 4,
 "nbformat_minor": 2
}
