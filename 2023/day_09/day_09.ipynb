{
 "cells": [
  {
   "cell_type": "markdown",
   "metadata": {},
   "source": [
    "# [Day 9](https://adventofcode.com/2023/day/9)"
   ]
  },
  {
   "cell_type": "code",
   "execution_count": 1,
   "metadata": {},
   "outputs": [],
   "source": [
    "import numpy as np"
   ]
  },
  {
   "cell_type": "code",
   "execution_count": 2,
   "metadata": {},
   "outputs": [
    {
     "data": {
      "text/plain": [
       "200"
      ]
     },
     "execution_count": 2,
     "metadata": {},
     "output_type": "execute_result"
    }
   ],
   "source": [
    "fNames = [\"input\", \"test\"]\n",
    "with open(fNames[0]) as f:\n",
    "    input = [l.strip(\"\\n\") for l in f.readlines()]\n",
    "\n",
    "len(input)"
   ]
  },
  {
   "cell_type": "code",
   "execution_count": 3,
   "metadata": {},
   "outputs": [
    {
     "data": {
      "text/plain": [
       "array([-28379719])"
      ]
     },
     "execution_count": 3,
     "metadata": {},
     "output_type": "execute_result"
    }
   ],
   "source": [
    "def get_diff(line: str):\n",
    "  arr = np.array([int(val) for val in line.split()])\n",
    "  while len(arr) -1 :\n",
    "    diff = np.diff(arr)\n",
    "    if (np.all(diff == 0)):\n",
    "      return arr\n",
    "    arr = diff\n",
    "  return arr\n",
    "  \n",
    "get_diff(input[0] + \" 0\")"
   ]
  },
  {
   "cell_type": "code",
   "execution_count": 4,
   "metadata": {},
   "outputs": [
    {
     "name": "stdout",
     "output_type": "stream",
     "text": [
      "ans:  2043183816\n"
     ]
    },
    {
     "data": {
      "text/plain": [
       "array([-12618428, -27134745, -14391127, -20273394, -15639050, -34300405,\n",
       "            -271, -21648431,   -203340, -27376276,   -321330, -14648059,\n",
       "       -21341667, -19596507,      -299, -20060572, -19644589,  -5476213,\n",
       "       -30609228,  -3389751, -17063587,   -378610,    -15811,  -2409149,\n",
       "           -5869,  -5338628,     26634,  -5764156, -12357491,      -160,\n",
       "          -54572,  -7549720, -13455460, -33708308,  -2131501,  -2072813,\n",
       "       -19467821, -32336065, -30298691, -34529020,    -22088,  -4228116,\n",
       "       -15136523,    -23334,  -4646373,    -63929, -10012195,  -8831240,\n",
       "        -1710522, -19212010,      -274, -34247044, -13942947,  -5988445,\n",
       "       -19655730,     -1395, -15475955,   -676424, -11500958,    239850,\n",
       "       -27735114, -29452765,      -232,   -977678,    721701,   -520605,\n",
       "        -1204622, -24207056,      3686, -21189549,   -894777,    -99780,\n",
       "        -2527049,     28389,  -9500516, -22037793, -18978953, -22025489,\n",
       "          200594, -18470455, -22748630,  -9621695,  -9293837,   -257297,\n",
       "        -1088668,        19,   -396972,       -56,  -5121433, -12737589,\n",
       "        -7220865,  -1946616,    244300, -31154673,    -12841,   -770535,\n",
       "        -4835048, -25223748, -14256108, -26211518])"
      ]
     },
     "execution_count": 4,
     "metadata": {},
     "output_type": "execute_result"
    }
   ],
   "source": [
    "get_diffs = np.vectorize(get_diff)\n",
    "res = get_diffs([c + \" 0\" for c in input])\n",
    "print('ans: ', sum(res * -1))\n",
    "res[-100:]"
   ]
  },
  {
   "cell_type": "markdown",
   "metadata": {},
   "source": [
    "## Part 2"
   ]
  },
  {
   "cell_type": "code",
   "execution_count": 5,
   "metadata": {},
   "outputs": [],
   "source": [
    "def get_diff_array(line: str):\n",
    "  arr = np.array([int(val) for val in line.split()])\n",
    "  res = [arr.tolist()]\n",
    "  while len(arr) -1 :\n",
    "    diff = np.diff(arr)\n",
    "    if (np.all(diff == 0)):\n",
    "      return res\n",
    "    res.append(diff.tolist())\n",
    "    arr = diff\n",
    "  return res\n",
    "\n",
    "def get_first_col(diffs: [[int]]):\n",
    "  return [list[0] for list in diffs]\n",
    "\n",
    "def prev_data_set(list: [int]):\n",
    "  ans = 0\n",
    "  res = []\n",
    "  for i in reversed(list):\n",
    "    ans = i - ans\n",
    "    res.insert(0, ans)\n",
    "  return res\n",
    "\n",
    "def run_pt_two(line: str):\n",
    "  res = get_diff_array(line)\n",
    "  fc = get_first_col(res)\n",
    "  prev = prev_data_set(fc)\n",
    "  return prev\n",
    "\n",
    "\n",
    "# run_pt_two(input[0]), get_diff_array(input[0])"
   ]
  },
  {
   "cell_type": "code",
   "execution_count": 6,
   "metadata": {},
   "outputs": [
    {
     "data": {
      "text/plain": [
       "1118"
      ]
     },
     "execution_count": 6,
     "metadata": {},
     "output_type": "execute_result"
    }
   ],
   "source": [
    "sum(get_first_col(list(map(run_pt_two, input))))"
   ]
  }
 ],
 "metadata": {
  "kernelspec": {
   "display_name": ".venv",
   "language": "python",
   "name": "python3"
  },
  "language_info": {
   "codemirror_mode": {
    "name": "ipython",
    "version": 3
   },
   "file_extension": ".py",
   "mimetype": "text/x-python",
   "name": "python",
   "nbconvert_exporter": "python",
   "pygments_lexer": "ipython3",
   "version": "3.11.6"
  }
 },
 "nbformat": 4,
 "nbformat_minor": 2
}
