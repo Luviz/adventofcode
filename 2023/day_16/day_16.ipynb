{
 "cells": [
  {
   "cell_type": "markdown",
   "metadata": {},
   "source": [
    "# [Day 16](https://adventofcode.com/2023/day/16)"
   ]
  },
  {
   "cell_type": "code",
   "execution_count": 2,
   "metadata": {},
   "outputs": [],
   "source": [
    "import numpy as np\n",
    "from matplotlib import pyplot as plt"
   ]
  },
  {
   "cell_type": "code",
   "execution_count": 66,
   "metadata": {},
   "outputs": [
    {
     "data": {
      "text/plain": [
       "(10,\n",
       " array([['.', '|', '.', '.', '.', '\\\\', '.', '.', '.', '.'],\n",
       "        ['|', '.', '-', '.', '\\\\', '.', '.', '.', '.', '.'],\n",
       "        ['.', '.', '.', '.', '.', '|', '-', '.', '.', '.'],\n",
       "        ['.', '.', '.', '.', '.', '.', '.', '.', '|', '.'],\n",
       "        ['.', '.', '.', '.', '.', '.', '.', '.', '.', '.'],\n",
       "        ['.', '.', '.', '.', '.', '.', '.', '.', '.', '\\\\'],\n",
       "        ['.', '.', '.', '.', '/', '.', '\\\\', '\\\\', '.', '.'],\n",
       "        ['.', '-', '.', '-', '/', '.', '.', '|', '.', '.'],\n",
       "        ['.', '|', '.', '.', '.', '.', '-', '|', '.', '\\\\'],\n",
       "        ['.', '.', '/', '/', '.', '|', '.', '.', '.', '.']], dtype='<U1'))"
      ]
     },
     "execution_count": 66,
     "metadata": {},
     "output_type": "execute_result"
    }
   ],
   "source": [
    "fNames = [\"input\", \"test\"]\n",
    "with open(fNames[1]) as a:\n",
    "    input = [list(l.strip(\"\\n\")) for l in a.readlines()]\n",
    "\n",
    "surface_org = np.array(input)\n",
    "len(input), surface_org"
   ]
  },
  {
   "cell_type": "code",
   "execution_count": 67,
   "metadata": {},
   "outputs": [],
   "source": [
    "def get_image(ndarr: np.ndarray):\n",
    "  arr = np.zeros((*ndarr.shape, 3))\n",
    "  arr[ndarr == '\\\\'] = [0,0.75,1]\n",
    "  arr[ndarr == '/'] = [0,0.5,1]\n",
    "  arr[ndarr == '|'] = [1,0,0.5]\n",
    "  arr[ndarr == '-'] = [1,0,1]\n",
    "  return arr"
   ]
  },
  {
   "cell_type": "code",
   "execution_count": 68,
   "metadata": {},
   "outputs": [
    {
     "data": {
      "text/plain": [
       "<matplotlib.image.AxesImage at 0x7f53931eec90>"
      ]
     },
     "execution_count": 68,
     "metadata": {},
     "output_type": "execute_result"
    },
    {
     "data": {
      "image/png": "[encoded data removed]",
      "text/plain": [
       "<Figure size 640x480 with 1 Axes>"
      ]
     },
     "metadata": {},
     "output_type": "display_data"
    }
   ],
   "source": [
    "plt.imshow(get_image(surface_org))"
   ]
  },
  {
   "cell_type": "code",
   "execution_count": null,
   "metadata": {},
   "outputs": [],
   "source": []
  }
 ],
 "metadata": {
  "kernelspec": {
   "display_name": ".venv",
   "language": "python",
   "name": "python3"
  },
  "language_info": {
   "codemirror_mode": {
    "name": "ipython",
    "version": 3
   },
   "file_extension": ".py",
   "mimetype": "text/x-python",
   "name": "python",
   "nbconvert_exporter": "python",
   "pygments_lexer": "ipython3",
   "version": "3.11.6"
  }
 },
 "nbformat": 4,
 "nbformat_minor": 2
}
