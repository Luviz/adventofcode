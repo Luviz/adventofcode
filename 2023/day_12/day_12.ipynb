{
 "cells": [
  {
   "cell_type": "markdown",
   "metadata": {},
   "source": [
    "# [day 12](https://adventofcode.com/2023/day/12)"
   ]
  },
  {
   "cell_type": "code",
   "execution_count": 66,
   "metadata": {},
   "outputs": [
    {
     "data": {
      "text/plain": [
       "1000"
      ]
     },
     "execution_count": 66,
     "metadata": {},
     "output_type": "execute_result"
    }
   ],
   "source": [
    "fNames = [\"input\", \"test\"]\n",
    "with open(fNames[0]) as a:\n",
    "    input = [l.strip(\"\\n\") for l in a.readlines()]\n",
    "\n",
    "len(input)"
   ]
  },
  {
   "cell_type": "code",
   "execution_count": 67,
   "metadata": {},
   "outputs": [],
   "source": [
    "def process_line(line: str):\n",
    "    def find_possibilities(dots, blocks, curr_dot, curr_block, block_len):\n",
    "        key = (curr_dot, curr_block, block_len)\n",
    "        if key in memo:\n",
    "            return memo[key]\n",
    "        if curr_dot == len(dots):\n",
    "            if curr_block == len(blocks) and block_len == 0:\n",
    "                return 1\n",
    "            elif curr_block == len(blocks) - 1 and blocks[curr_block] == block_len:\n",
    "                return 1\n",
    "            else:\n",
    "                return 0\n",
    "        ans = 0\n",
    "        for c in [\".\", \"#\"]:\n",
    "            if dots[curr_dot] == c or dots[curr_dot] == \"?\":\n",
    "                if c == \".\" and block_len == 0:\n",
    "                    ans += find_possibilities(dots, blocks, curr_dot + 1, curr_block, 0)\n",
    "                elif (\n",
    "                    c == \".\"\n",
    "                    and block_len > 0\n",
    "                    and curr_block < len(blocks)\n",
    "                    and blocks[curr_block] == block_len\n",
    "                ):\n",
    "                    ans += find_possibilities(\n",
    "                        dots, blocks, curr_dot + 1, curr_block + 1, 0\n",
    "                    )\n",
    "                elif c == \"#\":\n",
    "                    ans += find_possibilities(\n",
    "                        dots, blocks, curr_dot + 1, curr_block, block_len + 1\n",
    "                    )\n",
    "        memo[key] = ans\n",
    "        return ans\n",
    "\n",
    "    dots, blocks = line.split()\n",
    "    blocks = [int(x) for x in blocks.split(\",\")]\n",
    "    memo = {}\n",
    "    return find_possibilities(dots, blocks, 0, 0, 0)"
   ]
  },
  {
   "cell_type": "code",
   "execution_count": 68,
   "metadata": {},
   "outputs": [
    {
     "data": {
      "text/plain": [
       "8270"
      ]
     },
     "execution_count": 68,
     "metadata": {},
     "output_type": "execute_result"
    }
   ],
   "source": [
    "sum(map(process_line, input))"
   ]
  },
  {
   "cell_type": "markdown",
   "metadata": {},
   "source": [
    "## Part 2"
   ]
  },
  {
   "cell_type": "code",
   "execution_count": 69,
   "metadata": {},
   "outputs": [
    {
     "data": {
      "text/plain": [
       "'.#??..#??.?. 3,1,1,1'"
      ]
     },
     "execution_count": 69,
     "metadata": {},
     "output_type": "execute_result"
    }
   ],
   "source": [
    "input[0]"
   ]
  },
  {
   "cell_type": "code",
   "execution_count": 70,
   "metadata": {},
   "outputs": [
    {
     "data": {
      "text/plain": [
       "'.#??..#??.?.?.#??..#??.?.?.#??..#??.?.?.#??..#??.?.?.#??..#??.?. 3,1,1,1,3,1,1,1,3,1,1,1,3,1,1,1,3,1,1,1'"
      ]
     },
     "execution_count": 70,
     "metadata": {},
     "output_type": "execute_result"
    }
   ],
   "source": [
    "def unfold(line: str):\n",
    "  dots, blocks = line.split()\n",
    "  return f\"{'?'.join([dots, dots, dots, dots, dots])} {','.join([blocks, blocks, blocks, blocks, blocks])}\"\n",
    "  \n",
    "unfold(input[0])\n"
   ]
  },
  {
   "cell_type": "code",
   "execution_count": 71,
   "metadata": {},
   "outputs": [],
   "source": [
    "p2_input = list(map(unfold, input))\n",
    "# p2_input"
   ]
  },
  {
   "cell_type": "code",
   "execution_count": 72,
   "metadata": {},
   "outputs": [
    {
     "data": {
      "text/plain": [
       "204640299929836"
      ]
     },
     "execution_count": 72,
     "metadata": {},
     "output_type": "execute_result"
    }
   ],
   "source": [
    "sum(map(process_line, p2_input))"
   ]
  }
 ],
 "metadata": {
  "kernelspec": {
   "display_name": ".venv",
   "language": "python",
   "name": "python3"
  },
  "language_info": {
   "codemirror_mode": {
    "name": "ipython",
    "version": 3
   },
   "file_extension": ".py",
   "mimetype": "text/x-python",
   "name": "python",
   "nbconvert_exporter": "python",
   "pygments_lexer": "ipython3",
   "version": "3.11.6"
  }
 },
 "nbformat": 4,
 "nbformat_minor": 2
}
