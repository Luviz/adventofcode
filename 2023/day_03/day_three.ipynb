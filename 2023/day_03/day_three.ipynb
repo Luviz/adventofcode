{
 "cells": [
  {
   "cell_type": "markdown",
   "metadata": {},
   "source": [
    "# [Day 3](https://adventofcode.com/2023/day/3)\n"
   ]
  },
  {
   "cell_type": "code",
   "execution_count": 1,
   "metadata": {},
   "outputs": [
    {
     "name": "stdout",
     "output_type": "stream",
     "text": [
      "Requirement already satisfied: numpy in /home/bardia/src/adventofcode/.venv/lib/python3.11/site-packages (1.26.2)\n",
      "Requirement already satisfied: matplotlib in /home/bardia/src/adventofcode/.venv/lib/python3.11/site-packages (3.8.2)\n",
      "Requirement already satisfied: contourpy>=1.0.1 in /home/bardia/src/adventofcode/.venv/lib/python3.11/site-packages (from matplotlib) (1.2.0)\n",
      "Requirement already satisfied: cycler>=0.10 in /home/bardia/src/adventofcode/.venv/lib/python3.11/site-packages (from matplotlib) (0.12.1)\n",
      "Requirement already satisfied: fonttools>=4.22.0 in /home/bardia/src/adventofcode/.venv/lib/python3.11/site-packages (from matplotlib) (4.46.0)\n",
      "Requirement already satisfied: kiwisolver>=1.3.1 in /home/bardia/src/adventofcode/.venv/lib/python3.11/site-packages (from matplotlib) (1.4.5)\n",
      "Requirement already satisfied: packaging>=20.0 in /home/bardia/src/adventofcode/.venv/lib/python3.11/site-packages (from matplotlib) (23.2)\n",
      "Requirement already satisfied: pillow>=8 in /home/bardia/src/adventofcode/.venv/lib/python3.11/site-packages (from matplotlib) (10.1.0)\n",
      "Requirement already satisfied: pyparsing>=2.3.1 in /home/bardia/src/adventofcode/.venv/lib/python3.11/site-packages (from matplotlib) (3.1.1)\n",
      "Requirement already satisfied: python-dateutil>=2.7 in /home/bardia/src/adventofcode/.venv/lib/python3.11/site-packages (from matplotlib) (2.8.2)\n",
      "Requirement already satisfied: six>=1.5 in /home/bardia/src/adventofcode/.venv/lib/python3.11/site-packages (from python-dateutil>=2.7->matplotlib) (1.16.0)\n",
      "Note: you may need to restart the kernel to use updated packages.\n"
     ]
    }
   ],
   "source": [
    "%pip install numpy matplotlib"
   ]
  },
  {
   "cell_type": "code",
   "execution_count": 2,
   "metadata": {},
   "outputs": [],
   "source": [
    "import numpy as np\n",
    "import matplotlib.pyplot as plt"
   ]
  },
  {
   "cell_type": "code",
   "execution_count": 3,
   "metadata": {},
   "outputs": [
    {
     "name": "stdout",
     "output_type": "stream",
     "text": [
      "140\n"
     ]
    }
   ],
   "source": [
    "# Read inputs\n",
    "with open(\"input\") as f:\n",
    "    input = [l.strip(\"\\n\") for l in f.readlines()]\n",
    "\n",
    "print(len(input))"
   ]
  },
  {
   "cell_type": "code",
   "execution_count": 4,
   "metadata": {},
   "outputs": [
    {
     "data": {
      "text/plain": [
       "array([['4', '8', '.', ..., '.', '.', '.'],\n",
       "       ['.', '.', '.', ..., '.', '.', '.'],\n",
       "       ['.', '.', '.', ..., '.', '.', '.'],\n",
       "       ...,\n",
       "       ['.', '.', '.', ..., '.', '.', '.'],\n",
       "       ['6', '8', '.', ..., '.', '.', '.'],\n",
       "       ['.', '.', '.', ..., '.', '.', '.']], dtype='<U1')"
      ]
     },
     "execution_count": 4,
     "metadata": {},
     "output_type": "execute_result"
    }
   ],
   "source": [
    "matrix = np.array([np.array(list(l)) for l in input])\n",
    "matrix"
   ]
  },
  {
   "cell_type": "code",
   "execution_count": 5,
   "metadata": {},
   "outputs": [],
   "source": [
    "# print(matrix.shape, matrix[0, 1:3].shape)\n",
    "# ## Test\n",
    "# matrix = np.array(\n",
    "#     [\n",
    "#         list(\"467..114..\"),\n",
    "#         list(\"...*......\"),\n",
    "#         list(\"..35..633.\"),\n",
    "#         list(\"......#...\"),\n",
    "#         list(\"617*......\"),\n",
    "#         list(\".....+.58.\"),\n",
    "#         list(\"..592.....\"),\n",
    "#         list(\"......755.\"),\n",
    "#         list(\"...$.*....\"),\n",
    "#         list(\".664.598..\"),\n",
    "#     ]\n",
    "# )\n",
    "# matrix, matrix.shape, matrix[0, 1:3].shape"
   ]
  },
  {
   "cell_type": "code",
   "execution_count": 6,
   "metadata": {},
   "outputs": [
    {
     "data": {
      "text/plain": [
       "array([[  0,  19],\n",
       "       [  0,  51],\n",
       "       [  0,  52],\n",
       "       ...,\n",
       "       [139,  71],\n",
       "       [139,  79],\n",
       "       [139, 110]])"
      ]
     },
     "execution_count": 6,
     "metadata": {},
     "output_type": "execute_result"
    }
   ],
   "source": [
    "symbols = \"#%&*+-/=@$\"\n",
    "symbol_mask = np.isin(matrix, list(symbols))\n",
    "symbol_positions = np.argwhere(symbol_mask)\n",
    "neighborhood_slices = [\n",
    "    np.s_[row - 1 : row + 2, col - 1 : col + 2] for row, col in symbol_positions\n",
    "]\n",
    "\n",
    "neighborhood_masks = [np.zeros_like(matrix, dtype=bool) for _ in symbol_positions]\n",
    "for i, (row, col) in enumerate(symbol_positions):\n",
    "    neighborhood_masks[i][row - 1 : row + 2, col - 1 : col + 2] = True\n",
    "    neighborhood_masks[i][row, col] = False\n",
    "\n",
    "symbol_neighborhood_mask = np.any(neighborhood_masks, axis=0)\n",
    "symbol_neighborhood_number_mask = (matrix != \".\") & symbol_neighborhood_mask\n",
    "\n",
    "np.argwhere(symbol_neighborhood_number_mask)\n",
    "# matrix[symbol_neighborhood_number_mask]"
   ]
  },
  {
   "cell_type": "code",
   "execution_count": 7,
   "metadata": {},
   "outputs": [],
   "source": [
    "img = np.zeros((*matrix.shape, 3), dtype=np.uint8)\n",
    "img[matrix != \".\"] = [0, 0, 225]\n",
    "# for slice_ in neighborhood_slices:\n",
    "#     img[slice_] = 2\n",
    "\n",
    "img[symbol_neighborhood_mask] = [225, 0, 0]\n",
    "img[symbol_neighborhood_number_mask] = [0, 0, 128]\n",
    "img[symbol_mask] = [225, 225, 225]"
   ]
  },
  {
   "cell_type": "code",
   "execution_count": 8,
   "metadata": {},
   "outputs": [
    {
     "data": {
      "text/plain": [
       "<matplotlib.image.AxesImage at 0x7f73da923b90>"
      ]
     },
     "execution_count": 8,
     "metadata": {},
     "output_type": "execute_result"
    },
    {
     "data": {
      "image/png": "[encoded data removed]",
      "text/plain": [
       "<Figure size 1400x1400 with 1 Axes>"
      ]
     },
     "metadata": {},
     "output_type": "display_data"
    }
   ],
   "source": [
    "plt.figure(figsize=(14, 14))\n",
    "plt.imshow(img, interpolation=\"nearest\", cmap=\"grey\")"
   ]
  },
  {
   "cell_type": "code",
   "execution_count": 9,
   "metadata": {},
   "outputs": [
    {
     "data": {
      "text/plain": [
       "array(['4', '8'], dtype='<U1')"
      ]
     },
     "execution_count": 9,
     "metadata": {},
     "output_type": "execute_result"
    }
   ],
   "source": [
    "matrix[0,0:2]"
   ]
  },
  {
   "cell_type": "code",
   "execution_count": 10,
   "metadata": {},
   "outputs": [],
   "source": [
    "from types import NoneType\n",
    "\n",
    "\n",
    "def get_whole_number_and_slices(matrix: np.ndarray[np.str_], coordinates: tuple):\n",
    "    row, col = coordinates\n",
    "    _, width = matrix.shape\n",
    "    if ~np.char.isnumeric(matrix[row, col]):\n",
    "        return -1, None\n",
    "\n",
    "    ## find beginning of number;\n",
    "    start_col = col\n",
    "    while start_col > 0:\n",
    "        val = matrix[row, start_col - 1]\n",
    "        if ~np.char.isnumeric(val):\n",
    "            break\n",
    "        start_col = start_col - 1\n",
    "\n",
    "    ## find end of number;\n",
    "    end_col = col\n",
    "    while end_col < width - 1:\n",
    "        val = matrix[row, end_col + 1]\n",
    "        if ~np.char.isnumeric(val):\n",
    "            break\n",
    "        end_col = end_col + 1\n",
    "    slice = np.s_[row, start_col : end_col + 1]\n",
    "\n",
    "    return int(\"\".join(matrix[slice])), slice"
   ]
  },
  {
   "cell_type": "code",
   "execution_count": 11,
   "metadata": {},
   "outputs": [
    {
     "name": "stdout",
     "output_type": "stream",
     "text": [
      ". (140, 140)\n"
     ]
    }
   ],
   "source": [
    "print(matrix[8,9], matrix.shape)"
   ]
  },
  {
   "cell_type": "code",
   "execution_count": 12,
   "metadata": {},
   "outputs": [
    {
     "name": "stdout",
     "output_type": "stream",
     "text": [
      "48 -1 -1 -1\n",
      "False True None\n"
     ]
    }
   ],
   "source": [
    "test_1,s_1 =get_whole_number_and_slices(matrix, (0,0)) # should return 467\n",
    "test_2,s_2 =get_whole_number_and_slices(matrix, (0,2)) # should return 467\n",
    "test_3,s_3 =get_whole_number_and_slices(matrix, (0,3)) # should return None\n",
    "test_4,s_4 =get_whole_number_and_slices(matrix, (2,3)) # should return 35\n",
    "test_4,s_4 =get_whole_number_and_slices(matrix, (8,8)) # should return 60\n",
    "print(test_1, test_2, test_3, test_4)\n",
    "print(s_1 == s_2, s_2 == s_3,s_4)"
   ]
  },
  {
   "cell_type": "code",
   "execution_count": 13,
   "metadata": {},
   "outputs": [],
   "source": [
    "# Get all coordinates where symbol_neighborhood_number_mask is True\n",
    "number_coordinates = np.argwhere(symbol_neighborhood_number_mask)\n",
    "\n",
    "# Define a vectorized version of get_whole_number_and_slices\n",
    "v_get_whole_number_and_slices = np.vectorize(get_whole_number_and_slices, signature='(n,m),(2)->(),()')\n",
    "results = v_get_whole_number_and_slices(matrix, number_coordinates)"
   ]
  },
  {
   "cell_type": "code",
   "execution_count": 14,
   "metadata": {},
   "outputs": [],
   "source": [
    "def filter_uniq_numbers(numbers: [int], slices: [np.s_]):\n",
    "    unique_slices = set()\n",
    "    filtered_results = []\n",
    "\n",
    "    for number, slices in zip(numbers, slices):\n",
    "        if (slices != None ):\n",
    "        # Convert the slices to a hashable format (using string representation)\n",
    "            hashable_slices = tuple(str(s) if s is not None else None for s in slices)\n",
    "\n",
    "            # Check if the slice is unique\n",
    "            if hashable_slices not in unique_slices:\n",
    "                unique_slices.add(hashable_slices)\n",
    "                filtered_results.append(number)\n",
    "    return filtered_results"
   ]
  },
  {
   "cell_type": "code",
   "execution_count": 15,
   "metadata": {},
   "outputs": [
    {
     "data": {
      "text/plain": [
       "521601"
      ]
     },
     "execution_count": 15,
     "metadata": {},
     "output_type": "execute_result"
    }
   ],
   "source": [
    "filtered_results = filter_uniq_numbers(results[0], results[1])\n",
    "sum(filtered_results)"
   ]
  },
  {
   "cell_type": "markdown",
   "metadata": {},
   "source": [
    "## Part 2"
   ]
  },
  {
   "cell_type": "code",
   "execution_count": 16,
   "metadata": {},
   "outputs": [],
   "source": [
    "star = \"*\"\n",
    "star_mask = np.isin(matrix, list(star))\n",
    "star_positions = np.argwhere(star_mask)\n",
    "neighborhood_slices = [\n",
    "    np.s_[row - 1 : row + 2, col - 1 : col + 2] for row, col in star_positions\n",
    "]\n",
    "\n",
    "nm = [np.zeros_like(matrix, dtype=bool) for _ in star_positions]\n",
    "for i, (row, col) in enumerate(star_positions):\n",
    "    nm[i][row - 1 : row + 2, col - 1 : col + 2] = True\n",
    "    nm[i][row, col] = False\n",
    "\n",
    "star_neighborhood_mask = np.any(nm, axis=0)\n",
    "star_neighborhood_number_mask = (matrix != \".\") & star_neighborhood_mask\n",
    "\n",
    "# np.argwhere(star_neighborhood_number_mask)\n",
    "# matrix[star_neighborhood_number_mask]"
   ]
  },
  {
   "cell_type": "code",
   "execution_count": 17,
   "metadata": {},
   "outputs": [],
   "source": [
    "img = np.zeros((*matrix.shape, 3), dtype=np.uint8)\n",
    "img[matrix != \".\"] = [0, 0, 225]\n",
    "\n",
    "img[symbol_neighborhood_mask] = [225, 0, 0]\n",
    "img[symbol_neighborhood_number_mask] = [0, 0, 128]\n",
    "img[symbol_mask] = [225, 225, 0]\n",
    "\n",
    "img[star_neighborhood_mask] = [128, 0, 0]\n",
    "img[star_neighborhood_number_mask] = [0, 128, 0]\n",
    "img[star_mask] = [0,255,255]"
   ]
  },
  {
   "cell_type": "code",
   "execution_count": 18,
   "metadata": {},
   "outputs": [
    {
     "data": {
      "text/plain": [
       "<matplotlib.image.AxesImage at 0x7f73da763b90>"
      ]
     },
     "execution_count": 18,
     "metadata": {},
     "output_type": "execute_result"
    },
    {
     "data": {
      "image/png": "[encoded data removed]",
      "text/plain": [
       "<Figure size 700x700 with 1 Axes>"
      ]
     },
     "metadata": {},
     "output_type": "display_data"
    }
   ],
   "source": [
    "plt.figure(figsize=(7, 7))\n",
    "plt.imshow(img, interpolation=\"nearest\", cmap=\"grey\")"
   ]
  },
  {
   "cell_type": "code",
   "execution_count": 19,
   "metadata": {},
   "outputs": [],
   "source": [
    "def get_neighbors_coord(matrix: np.ndarray[np.str_], coordinates: tuple):\n",
    "    row, col = coordinates\n",
    "    def is_valid_coordinate(r, c):\n",
    "        return 0 <= r < matrix.shape[0] and 0 <= c < matrix.shape[1]\n",
    "\n",
    "    neighbors = []\n",
    "\n",
    "    directions = [\n",
    "        (-1, 0), (1, 0), (0, -1), (0, 1),\n",
    "        (-1, -1), (-1, 1), (1, -1), (1, 1)\n",
    "    ]\n",
    "\n",
    "    for dr, dc in directions:\n",
    "        new_row, new_col = row + dr, col + dc\n",
    "\n",
    "        if is_valid_coordinate(new_row, new_col):\n",
    "            # Exclude the center coordinate\n",
    "            if not (new_row == coordinates[0] and new_col == coordinates[1]):\n",
    "                neighbors.append((new_row, new_col))\n",
    "\n",
    "    return np.array(neighbors)\n",
    "\n",
    "v_get_neighbors_coord = np.vectorize(get_neighbors_coord, signature='(n,m),(2)->(p,q)')\n"
   ]
  },
  {
   "cell_type": "code",
   "execution_count": 35,
   "metadata": {},
   "outputs": [
    {
     "data": {
      "text/plain": [
       "80694070"
      ]
     },
     "execution_count": 35,
     "metadata": {},
     "output_type": "execute_result"
    }
   ],
   "source": [
    "mulRes = []\n",
    "for pos in np.argwhere(star_mask):\n",
    "  t= get_neighbors_coord(matrix, pos)\n",
    "  res = v_get_whole_number_and_slices(matrix, t)\n",
    "  val = filter_uniq_numbers(*res)\n",
    "  if(len(val) > 1):\n",
    "    # print(pos,len(val), np.multiply.reduce(val))\n",
    "    mulRes.append(np.multiply.reduce(val))\n",
    "sum(mulRes)"
   ]
  }
 ],
 "metadata": {
  "kernelspec": {
   "display_name": ".venv",
   "language": "python",
   "name": "python3"
  },
  "language_info": {
   "codemirror_mode": {
    "name": "ipython",
    "version": 3
   },
   "file_extension": ".py",
   "mimetype": "text/x-python",
   "name": "python",
   "nbconvert_exporter": "python",
   "pygments_lexer": "ipython3",
   "version": "3.11.6"
  }
 },
 "nbformat": 4,
 "nbformat_minor": 2
}
