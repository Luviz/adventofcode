{
 "cells": [
  {
   "cell_type": "markdown",
   "metadata": {},
   "source": [
    "# [Day 6](https://adventofcode.com/2023/day/6)"
   ]
  },
  {
   "cell_type": "code",
   "execution_count": 15,
   "metadata": {},
   "outputs": [],
   "source": [
    "import numpy as np"
   ]
  },
  {
   "cell_type": "code",
   "execution_count": 70,
   "metadata": {},
   "outputs": [
    {
     "name": "stdout",
     "output_type": "stream",
     "text": [
      "2\n"
     ]
    }
   ],
   "source": [
    "# Read inputs\n",
    "isTest = not True\n",
    "fileName = \"test\" if isTest else \"input\"\n",
    "with open(fileName) as f:\n",
    "    input = [l.strip(\"\\n\") for l in f.readlines()]\n",
    "\n",
    "print(len(input))"
   ]
  },
  {
   "cell_type": "code",
   "execution_count": 71,
   "metadata": {},
   "outputs": [
    {
     "data": {
      "text/plain": [
       "[(53, 313), (89, 1090), (76, 1214), (98, 1201)]"
      ]
     },
     "execution_count": 71,
     "metadata": {},
     "output_type": "execute_result"
    }
   ],
   "source": [
    "rases = list(\n",
    "    zip(\n",
    "        [int(v) for v in input[0].split(\":\")[1].split()],\n",
    "        [int(v) for v in input[1].split(\":\")[1].split()],\n",
    "    )\n",
    ")\n",
    "rases"
   ]
  },
  {
   "cell_type": "code",
   "execution_count": 72,
   "metadata": {},
   "outputs": [
    {
     "data": {
      "text/plain": [
       "5133600"
      ]
     },
     "execution_count": 72,
     "metadata": {},
     "output_type": "execute_result"
    }
   ],
   "source": [
    "def lunch(available_time, charge_time):\n",
    "  remaining_time =  available_time - charge_time\n",
    "  return charge_time * remaining_time\n",
    "\n",
    "lunch_all = np.vectorize(lunch)\n",
    "\n",
    "\n",
    "def get_possible_wins(t: tuple[int,int]):\n",
    "  time, record = t\n",
    "  return sum(lunch_all(time, range(1,time)) > record)\n",
    "\n",
    "\n",
    "\n",
    "np.prod([get_possible_wins(r) for r in rases])"
   ]
  },
  {
   "cell_type": "markdown",
   "metadata": {},
   "source": [
    "## Part 2"
   ]
  },
  {
   "cell_type": "code",
   "execution_count": 74,
   "metadata": {},
   "outputs": [
    {
     "data": {
      "text/plain": [
       "71503"
      ]
     },
     "execution_count": 74,
     "metadata": {},
     "output_type": "execute_result"
    }
   ],
   "source": [
    "get_possible_wins((71530, 940200))"
   ]
  }
 ],
 "metadata": {
  "kernelspec": {
   "display_name": ".venv",
   "language": "python",
   "name": "python3"
  },
  "language_info": {
   "codemirror_mode": {
    "name": "ipython",
    "version": 3
   },
   "file_extension": ".py",
   "mimetype": "text/x-python",
   "name": "python",
   "nbconvert_exporter": "python",
   "pygments_lexer": "ipython3",
   "version": "3.11.6"
  }
 },
 "nbformat": 4,
 "nbformat_minor": 2
}
