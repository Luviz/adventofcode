{
 "cells": [
  {
   "cell_type": "code",
   "execution_count": 1,
   "metadata": {},
   "outputs": [],
   "source": [
    "import numpy as np\n",
    "from itertools import combinations"
   ]
  },
  {
   "cell_type": "code",
   "execution_count": 2,
   "metadata": {},
   "outputs": [
    {
     "data": {
      "text/plain": [
       "(140,\n",
       " array([['.', '.', '.', ..., '.', '.', '.'],\n",
       "        ['.', '.', '.', ..., '.', '.', '.'],\n",
       "        ['.', '.', '.', ..., '.', '.', '.'],\n",
       "        ...,\n",
       "        ['.', '.', '.', ..., '.', '.', '.'],\n",
       "        ['.', '.', '.', ..., '.', '.', '.'],\n",
       "        ['.', '.', '.', ..., '.', '.', '.']], dtype='<U1'))"
      ]
     },
     "execution_count": 2,
     "metadata": {},
     "output_type": "execute_result"
    }
   ],
   "source": [
    "fNames = [\"input\", \"test\"]\n",
    "with open(fNames[0]) as a:\n",
    "    input = [list(l.strip(\"\\n\")) for l in a.readlines()]\n",
    "\n",
    "surface_org = np.array(input)\n",
    "len(input), surface_org"
   ]
  },
  {
   "cell_type": "code",
   "execution_count": 3,
   "metadata": {},
   "outputs": [
    {
     "data": {
      "text/plain": [
       "(array([ 47,  75,  85,  89, 121]), array([ 20,  24,  37,  79,  83, 129]))"
      ]
     },
     "execution_count": 3,
     "metadata": {},
     "output_type": "execute_result"
    }
   ],
   "source": [
    "def expand(matrix: np.ndarray):\n",
    "    res = matrix.copy()\n",
    "    # indexes_row, indexes_row =\n",
    "    indexes_row, indexes_col = get_expansion_indexes(matrix)\n",
    "    print(indexes_row, indexes_col)\n",
    "    # print(indexes.ravel())\n",
    "    for ix in reversed(indexes_row.ravel()):\n",
    "        res = np.insert(res, ix, \"*\", axis=0)\n",
    "    for ix in reversed(indexes_col.ravel()):\n",
    "        res = np.insert(res, ix, \"*\", axis=1)\n",
    "    return res\n",
    "\n",
    "\n",
    "def get_expansion_indexes(matrix):\n",
    "    indexes_row = np.argwhere((matrix == \".\").sum(axis=1) == matrix.shape[0]).ravel()\n",
    "    indexes_col = np.argwhere((matrix == \".\").sum(axis=0) == matrix.shape[1]).ravel()\n",
    "    return indexes_row, indexes_col\n",
    "\n",
    "\n",
    "get_expansion_indexes(surface_org)"
   ]
  },
  {
   "cell_type": "code",
   "execution_count": 4,
   "metadata": {},
   "outputs": [
    {
     "name": "stdout",
     "output_type": "stream",
     "text": [
      "[ 47  75  85  89 121] [ 20  24  37  79  83 129]\n",
      "(145, 146)\n",
      "[['.' '.' '.' ... '.' '.' '.']\n",
      " ['.' '.' '.' ... '.' '.' '.']\n",
      " ['.' '.' '.' ... '.' '.' '.']\n",
      " ...\n",
      " ['.' '.' '.' ... '.' '.' '.']\n",
      " ['.' '.' '.' ... '.' '.' '.']\n",
      " ['.' '.' '.' ... '.' '.' '.']]\n"
     ]
    }
   ],
   "source": [
    "surface = expand(surface_org)\n",
    "print(surface.shape)\n",
    "print(surface)"
   ]
  },
  {
   "cell_type": "code",
   "execution_count": 5,
   "metadata": {},
   "outputs": [],
   "source": [
    "galaxies = np.argwhere(surface == \"#\")"
   ]
  },
  {
   "cell_type": "code",
   "execution_count": 6,
   "metadata": {},
   "outputs": [
    {
     "data": {
      "text/plain": [
       "98790"
      ]
     },
     "execution_count": 6,
     "metadata": {},
     "output_type": "execute_result"
    }
   ],
   "source": [
    "ix_pair = list(combinations(range(len(galaxies)), 2))\n",
    "len(ix_pair)"
   ]
  },
  {
   "cell_type": "code",
   "execution_count": 7,
   "metadata": {},
   "outputs": [
    {
     "data": {
      "text/plain": [
       "9742154"
      ]
     },
     "execution_count": 7,
     "metadata": {},
     "output_type": "execute_result"
    }
   ],
   "source": [
    "def get_distance(a: np.ndarray, b: np.ndarray):\n",
    "    return sum(np.abs(a - b))\n",
    "\n",
    "\n",
    "def get_all_distances(coord):\n",
    "    [f, t] = coord\n",
    "    # print(coord, indexes_col[f],indexes_col[t])\n",
    "    return get_distance(galaxies[f], galaxies[t])\n",
    "\n",
    "\n",
    "sum(list(map(get_all_distances, ix_pair)))"
   ]
  },
  {
   "cell_type": "markdown",
   "metadata": {},
   "source": [
    "## Part 2\n"
   ]
  },
  {
   "cell_type": "code",
   "execution_count": 8,
   "metadata": {},
   "outputs": [
    {
     "name": "stdout",
     "output_type": "stream",
     "text": [
      "[ 47  75  85  89 121] [ 20  24  37  79  83 129]\n"
     ]
    }
   ],
   "source": [
    "indexes_row, indexes_col = get_expansion_indexes(surface_org)\n",
    "galaxies = np.argwhere(surface_org == \"#\")\n",
    "ix_pair = list(combinations(range(len(galaxies)), 2))\n",
    "len(ix_pair)\n",
    "print(indexes_row, indexes_col)"
   ]
  },
  {
   "cell_type": "code",
   "execution_count": 9,
   "metadata": {},
   "outputs": [],
   "source": [
    "def crosses(a: int, b: int, indexes: np.ndarray):\n",
    "    min_val = min(a, b)\n",
    "    max_val = max(a, b)\n",
    "    return (min_val < indexes) & (indexes < max_val)\n",
    "\n",
    "\n",
    "def get_distance(a: np.ndarray, b: np.ndarray):\n",
    "    mul = 10**6 - 1\n",
    "    std_sum = sum(np.abs(a - b))\n",
    "    f_row, f_col = a\n",
    "    t_row, t_col = b\n",
    "    row = crosses(f_row, t_row, indexes_row)\n",
    "    col = crosses(f_col, t_col, indexes_col)\n",
    "    return std_sum + (mul * sum(row)) + (mul * sum(col))"
   ]
  },
  {
   "cell_type": "code",
   "execution_count": 10,
   "metadata": {},
   "outputs": [
    {
     "data": {
      "text/plain": [
       "411142919886"
      ]
     },
     "execution_count": 10,
     "metadata": {},
     "output_type": "execute_result"
    }
   ],
   "source": [
    "sum(list(map(get_all_distances, ix_pair)))"
   ]
  }
 ],
 "metadata": {
  "kernelspec": {
   "display_name": ".venv",
   "language": "python",
   "name": "python3"
  },
  "language_info": {
   "codemirror_mode": {
    "name": "ipython",
    "version": 3
   },
   "file_extension": ".py",
   "mimetype": "text/x-python",
   "name": "python",
   "nbconvert_exporter": "python",
   "pygments_lexer": "ipython3",
   "version": "3.11.6"
  }
 },
 "nbformat": 4,
 "nbformat_minor": 2
}
