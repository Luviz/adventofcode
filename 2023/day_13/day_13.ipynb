{
 "cells": [
  {
   "cell_type": "markdown",
   "metadata": {},
   "source": [
    "# [day 13](https://adventofcode.com/2023/day/13)"
   ]
  },
  {
   "cell_type": "code",
   "execution_count": 1,
   "metadata": {},
   "outputs": [],
   "source": [
    "import numpy as np"
   ]
  },
  {
   "cell_type": "code",
   "execution_count": 2,
   "metadata": {},
   "outputs": [],
   "source": [
    "def segment_to_image(segment: str):\n",
    "  rows = segment.split('\\n')\n",
    "  arr = np.array([list(r) for r in rows])\n",
    "  ret = np.zeros(arr.shape, dtype=np.int8)\n",
    "  ret[arr == '#'] = 1\n",
    "  return ret"
   ]
  },
  {
   "cell_type": "code",
   "execution_count": 3,
   "metadata": {},
   "outputs": [
    {
     "data": {
      "text/plain": [
       "100"
      ]
     },
     "execution_count": 3,
     "metadata": {},
     "output_type": "execute_result"
    }
   ],
   "source": [
    "fNames = [\"input\", \"test\"]\n",
    "with open(fNames[0]) as a:\n",
    "    raw = a.read()\n",
    "    input = [segment_to_image(l.strip(\"\\n\")) for l in raw.split('\\n\\n')]\n",
    "\n",
    "len(input)"
   ]
  },
  {
   "cell_type": "code",
   "execution_count": 4,
   "metadata": {},
   "outputs": [
    {
     "data": {
      "text/plain": [
       "(7, 11)"
      ]
     },
     "execution_count": 4,
     "metadata": {},
     "output_type": "execute_result"
    }
   ],
   "source": [
    "input[0].shape"
   ]
  },
  {
   "cell_type": "code",
   "execution_count": 5,
   "metadata": {},
   "outputs": [
    {
     "name": "stdout",
     "output_type": "stream",
     "text": [
      "[1 1 1 0 1 1 0]\n",
      "[1 1 0 0 0 0 0]\n"
     ]
    },
    {
     "data": {
      "text/plain": [
       "False"
      ]
     },
     "execution_count": 5,
     "metadata": {},
     "output_type": "execute_result"
    }
   ],
   "source": [
    "sel = input[0].T\n",
    "print(sel[4])\n",
    "print(sel[5])\n",
    "np.all(sel[4] == sel[5])\n"
   ]
  },
  {
   "cell_type": "code",
   "execution_count": 6,
   "metadata": {},
   "outputs": [
    {
     "name": "stdout",
     "output_type": "stream",
     "text": [
      "[[1 1 0 0 0 0 0]\n",
      " [1 1 1 0 1 1 0]\n",
      " [0 1 1 0 1 1 1]\n",
      " [0 1 1 0 1 1 1]\n",
      " [1 1 1 0 1 1 0]]\n",
      "------------\n",
      "[[1 1 0 0 0 0 0]\n",
      " [0 0 1 0 1 0 1]\n",
      " [0 0 1 0 1 0 1]\n",
      " [1 1 0 0 0 0 0]\n",
      " [1 1 1 0 1 1 0]\n",
      " [0 1 1 1 1 1 1]]\n",
      "(5, 7) (6, 7) 6\n"
     ]
    }
   ],
   "source": [
    "print(sel[:5])\n",
    "print('------------')\n",
    "print(sel[5:])\n",
    "# l[:5] == l[5:]\n",
    "print(sel[:5].shape, sel[5:].shape, len(sel[5:]))"
   ]
  },
  {
   "cell_type": "code",
   "execution_count": 7,
   "metadata": {},
   "outputs": [
    {
     "data": {
      "text/plain": [
       "array([[1, 1, 0, 0, 0, 0, 0],\n",
       "       [1, 1, 1, 0, 1, 1, 0],\n",
       "       [0, 1, 1, 0, 1, 1, 1],\n",
       "       [0, 1, 1, 0, 1, 1, 1]], dtype=int8)"
      ]
     },
     "execution_count": 7,
     "metadata": {},
     "output_type": "execute_result"
    }
   ],
   "source": [
    "sel[:4]"
   ]
  },
  {
   "cell_type": "code",
   "execution_count": 8,
   "metadata": {},
   "outputs": [
    {
     "data": {
      "text/plain": [
       "False"
      ]
     },
     "execution_count": 8,
     "metadata": {},
     "output_type": "execute_result"
    }
   ],
   "source": [
    "def fold_n_cut(arr: np.ndarray, at: int):\n",
    "    fold_ix = at + 1\n",
    "    len_left = len(arr[:fold_ix])\n",
    "    len_right = len(arr[fold_ix:])\n",
    "    len_min = min(len_left, len_right)\n",
    "    if len_left < len_right:\n",
    "        left = arr[:fold_ix]\n",
    "        right = arr[fold_ix : fold_ix + len_min]\n",
    "        return left, right\n",
    "    else:\n",
    "        left = arr[fold_ix - len_min : fold_ix]\n",
    "        right = arr[fold_ix:]\n",
    "        return left, right\n",
    "\n",
    "\n",
    "def flip_n_test(left: np.ndarray, right: np.ndarray):\n",
    "    return np.all(left == np.flip(right, axis=0))\n",
    "\n",
    "\n",
    "flip_n_test(*fold_n_cut(input[0], 4))"
   ]
  },
  {
   "cell_type": "code",
   "execution_count": 9,
   "metadata": {},
   "outputs": [
    {
     "data": {
      "text/plain": [
       "(array([[0, 0, 0, 0, 0, 0, 0, 0, 0, 0, 1],\n",
       "        [0, 1, 1, 1, 1, 0, 1, 1, 0, 1, 1]], dtype=int8),\n",
       " array([[0, 1, 1, 1, 1, 0, 0, 0, 0, 1, 1],\n",
       "        [0, 0, 1, 1, 0, 0, 1, 1, 0, 0, 1]], dtype=int8))"
      ]
     },
     "execution_count": 9,
     "metadata": {},
     "output_type": "execute_result"
    }
   ],
   "source": [
    "fold_n_cut(input[0], 4)"
   ]
  },
  {
   "cell_type": "code",
   "execution_count": 10,
   "metadata": {},
   "outputs": [
    {
     "data": {
      "text/plain": [
       "((False, 3), (True, 10))"
      ]
     },
     "execution_count": 10,
     "metadata": {},
     "output_type": "execute_result"
    }
   ],
   "source": [
    "def find_fold_index(arr:np.ndarray, rows=True):\n",
    "  for ix in range(len(arr)-1):\n",
    "    test = flip_n_test(*fold_n_cut(arr, ix))\n",
    "    if test:\n",
    "      return rows, ix + 1\n",
    "  if rows:\n",
    "    return find_fold_index(arr.T, rows=False)\n",
    "  return None, None\n",
    "    \n",
    "find_fold_index(input[0]), find_fold_index(input[1])"
   ]
  },
  {
   "cell_type": "code",
   "execution_count": 11,
   "metadata": {},
   "outputs": [],
   "source": [
    "def get_summarize(value: int, mul:bool):\n",
    "  if (value == None): \n",
    "    return 0\n",
    "  if (mul): \n",
    "    return value * 100\n",
    "  return value"
   ]
  },
  {
   "cell_type": "code",
   "execution_count": 12,
   "metadata": {},
   "outputs": [
    {
     "data": {
      "text/plain": [
       "34993"
      ]
     },
     "execution_count": 12,
     "metadata": {},
     "output_type": "execute_result"
    }
   ],
   "source": [
    "vals = [get_summarize(i,m) for m, i in map(find_fold_index, input)]\n",
    "sum(vals)"
   ]
  },
  {
   "cell_type": "markdown",
   "metadata": {},
   "source": [
    "## Part 2"
   ]
  },
  {
   "cell_type": "code",
   "execution_count": 13,
   "metadata": {},
   "outputs": [],
   "source": [
    "def flip_n_test(left: np.ndarray, right: np.ndarray):\n",
    "    return np.sum(~(left == np.flip(right, axis=0))) == 1\n"
   ]
  },
  {
   "cell_type": "code",
   "execution_count": 14,
   "metadata": {},
   "outputs": [
    {
     "data": {
      "text/plain": [
       "29341"
      ]
     },
     "execution_count": 14,
     "metadata": {},
     "output_type": "execute_result"
    }
   ],
   "source": [
    "vals = [get_summarize(i,m) for m, i in map(find_fold_index, input)]\n",
    "sum(vals)"
   ]
  },
  {
   "cell_type": "code",
   "execution_count": null,
   "metadata": {},
   "outputs": [],
   "source": []
  }
 ],
 "metadata": {
  "kernelspec": {
   "display_name": ".venv",
   "language": "python",
   "name": "python3"
  },
  "language_info": {
   "codemirror_mode": {
    "name": "ipython",
    "version": 3
   },
   "file_extension": ".py",
   "mimetype": "text/x-python",
   "name": "python",
   "nbconvert_exporter": "python",
   "pygments_lexer": "ipython3",
   "version": "3.11.6"
  }
 },
 "nbformat": 4,
 "nbformat_minor": 2
}
