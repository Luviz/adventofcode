{
 "cells": [
  {
   "cell_type": "markdown",
   "metadata": {},
   "source": [
    "# [Day 15](https://adventofcode.com/2023/day/15)\n"
   ]
  },
  {
   "cell_type": "code",
   "execution_count": 1,
   "metadata": {},
   "outputs": [
    {
     "data": {
      "text/plain": [
       "22958"
      ]
     },
     "execution_count": 1,
     "metadata": {},
     "output_type": "execute_result"
    }
   ],
   "source": [
    "fNames = [\"input\", \"test\"]\n",
    "with open(fNames[0]) as f:\n",
    "    input = f.read()\n",
    "\n",
    "len(input)"
   ]
  },
  {
   "cell_type": "code",
   "execution_count": 2,
   "metadata": {},
   "outputs": [
    {
     "data": {
      "text/plain": [
       "52"
      ]
     },
     "execution_count": 2,
     "metadata": {},
     "output_type": "execute_result"
    }
   ],
   "source": [
    "def hash_str(s: str):\n",
    "    curr = 0\n",
    "    for c in list(s):\n",
    "        curr += ord(c)\n",
    "        curr *= 17\n",
    "        curr %= 256\n",
    "\n",
    "    return curr\n",
    "\n",
    "\n",
    "hash_str(\"HASH\")"
   ]
  },
  {
   "cell_type": "code",
   "execution_count": 3,
   "metadata": {},
   "outputs": [
    {
     "data": {
      "text/plain": [
       "516070"
      ]
     },
     "execution_count": 3,
     "metadata": {},
     "output_type": "execute_result"
    }
   ],
   "source": [
    "sum([hash_str(s) for s in input.split(\",\")])"
   ]
  },
  {
   "cell_type": "markdown",
   "metadata": {},
   "source": [
    "## Part 2\n"
   ]
  },
  {
   "cell_type": "code",
   "execution_count": 4,
   "metadata": {},
   "outputs": [
    {
     "data": {
      "text/plain": [
       "4000"
      ]
     },
     "execution_count": 4,
     "metadata": {},
     "output_type": "execute_result"
    }
   ],
   "source": [
    "inst = [s for s in input.split(\",\")]\n",
    "inst\n",
    "boxes = {}\n",
    "len(inst)"
   ]
  },
  {
   "cell_type": "code",
   "execution_count": 5,
   "metadata": {},
   "outputs": [
    {
     "data": {
      "text/plain": [
       "{'rpdq-': (False, 199, ['rpdq', '']),\n",
       " 'nq-': (False, 175, ['nq', '']),\n",
       " 'qmx-': (False, 166, ['qmx', '']),\n",
       " 'jqs-': (False, 126, ['jqs', '']),\n",
       " 'pnh-': (False, 134, ['pnh', '']),\n",
       " 'lkb-': (False, 249, ['lkb', '']),\n",
       " 'dncgk=5': (True, 231, ['dncgk', '5']),\n",
       " 'zdq=4': (True, 191, ['zdq', '4']),\n",
       " 'ft=9': (True, 218, ['ft', '9']),\n",
       " 'mhbmc-': (False, 71, ['mhbmc', ''])}"
      ]
     },
     "execution_count": 5,
     "metadata": {},
     "output_type": "execute_result"
    }
   ],
   "source": [
    "def get_instructions(s: str):\n",
    "    val = s.replace(\"-\", \"=\").split(\"=\")\n",
    "    ix = hash_str(val[0])\n",
    "    return \"=\" in s, ix, val\n",
    "\n",
    "\n",
    "{v: get_instructions(v) for v in inst[:10]}"
   ]
  },
  {
   "cell_type": "code",
   "execution_count": 6,
   "metadata": {},
   "outputs": [],
   "source": [
    "def sort_lens(inst):\n",
    "    hash: dict[int, dict[str, int]] = {}\n",
    "    for isAdd, ix, [k, v] in map(get_instructions, inst):\n",
    "        if isAdd:\n",
    "            if not ix in hash:\n",
    "                hash[ix] = {}\n",
    "            hash[ix][k] = int(v)\n",
    "        else:\n",
    "            if ix in hash:\n",
    "                if k in hash[ix]:\n",
    "                    del hash[ix][k]\n",
    "    return hash\n"
   ]
  },
  {
   "cell_type": "code",
   "execution_count": 7,
   "metadata": {},
   "outputs": [],
   "source": [
    "boxes = sort_lens(inst)"
   ]
  },
  {
   "cell_type": "code",
   "execution_count": 8,
   "metadata": {},
   "outputs": [
    {
     "name": "stdout",
     "output_type": "stream",
     "text": [
      "sum: 244981 for scores of (256)\n"
     ]
    }
   ],
   "source": [
    "def get_score(boxes):\n",
    "    res = []\n",
    "    for box_ix, box in boxes.items():\n",
    "        for ix, (_, slot) in enumerate(box.items()):\n",
    "            val = (box_ix + 1) * (ix + 1) * slot\n",
    "            res.append(val)\n",
    "    return sum(res), res\n",
    "\n",
    "\n",
    "s, scores = get_score(boxes)\n",
    "print(f\"sum: {s} for scores of ({len(scores)})\")"
   ]
  }
 ],
 "metadata": {
  "kernelspec": {
   "display_name": ".venv",
   "language": "python",
   "name": "python3"
  },
  "language_info": {
   "codemirror_mode": {
    "name": "ipython",
    "version": 3
   },
   "file_extension": ".py",
   "mimetype": "text/x-python",
   "name": "python",
   "nbconvert_exporter": "python",
   "pygments_lexer": "ipython3",
   "version": "3.11.6"
  }
 },
 "nbformat": 4,
 "nbformat_minor": 2
}
