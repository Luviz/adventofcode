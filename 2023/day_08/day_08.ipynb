{
 "cells": [
  {
   "cell_type": "code",
   "execution_count": 1,
   "metadata": {},
   "outputs": [
    {
     "data": {
      "text/plain": [
       "('01110010011010111010111011001110110100100110100001101101001101110001101011011101110010111001101110110101101100101011101101101110110110101110111011100010110101110111011011001011001100101101011011101011010111001100101110111011101110001011011101110100110011010100110110011101011101111',\n",
       " 738)"
      ]
     },
     "execution_count": 1,
     "metadata": {},
     "output_type": "execute_result"
    }
   ],
   "source": [
    "fNames = [\"input\", \"test\", \"test2\", \"test3\"]\n",
    "with open(fNames[0]) as f:\n",
    "    input = [l.strip(\"\\n\") for l in f.readlines()]\n",
    "\n",
    "instructions = input[0].replace(\"L\", \"0\").replace(\"R\", \"1\")\n",
    "map_raw = input[2:]\n",
    "\n",
    "instructions, len(map_raw)"
   ]
  },
  {
   "cell_type": "code",
   "execution_count": 2,
   "metadata": {},
   "outputs": [],
   "source": [
    "def remove_chars(line: str, removals: str):\n",
    "    r = line\n",
    "    for c in list(removals):\n",
    "        r = r.replace(c, \"\")\n",
    "    return r\n",
    "\n",
    "\n",
    "def extract_map(line: str):\n",
    "    key, branches = remove_chars(line, \" ()\").split(\"=\")\n",
    "    l, r = branches.split(\",\")\n",
    "    return key, l, r\n",
    "\n",
    "\n",
    "network = {k: (l, r) for k, l, r in map(extract_map, map_raw)}\n",
    "# network[\"AAA\"], network[network[\"AAA\"][0]], network[network[\"AAA\"][1]]"
   ]
  },
  {
   "cell_type": "code",
   "execution_count": 3,
   "metadata": {},
   "outputs": [
    {
     "data": {
      "text/plain": [
       "16580"
      ]
     },
     "execution_count": 3,
     "metadata": {},
     "output_type": "execute_result"
    }
   ],
   "source": [
    "def traverse_instructions(network: dict[str, tuple[str, str]], instructions):\n",
    "    get_path = lambda inst: list(map(int, inst))\n",
    "    route = [\"AAA\"]\n",
    "    while True:\n",
    "        for p in get_path(instructions):\n",
    "            loc = network[route[-1]][p]\n",
    "            route.append(loc)\n",
    "            if loc == \"ZZZ\":\n",
    "                return route\n",
    "\n",
    "\n",
    "path = traverse_instructions(network, instructions)\n",
    "len(path)"
   ]
  },
  {
   "cell_type": "code",
   "execution_count": 4,
   "metadata": {},
   "outputs": [
    {
     "data": {
      "text/plain": [
       "16579"
      ]
     },
     "execution_count": 4,
     "metadata": {},
     "output_type": "execute_result"
    }
   ],
   "source": [
    "len(path) - 1 # 16579"
   ]
  },
  {
   "cell_type": "markdown",
   "metadata": {},
   "source": [
    "## Part 2\n"
   ]
  },
  {
   "cell_type": "code",
   "execution_count": 6,
   "metadata": {},
   "outputs": [
    {
     "data": {
      "text/plain": [
       "(6, ['KTA', 'PLA', 'LJA', 'AAA', 'JXA', 'NFA'])"
      ]
     },
     "execution_count": 6,
     "metadata": {},
     "output_type": "execute_result"
    }
   ],
   "source": [
    "def get_key_ends(network_keys: [str], key: str):\n",
    "    return list(filter(lambda x: x[-1] == key[-1], network_keys))\n",
    "\n",
    "init_roots = get_key_ends(network.keys(), \"AAA\")\n",
    "len(init_roots), init_roots"
   ]
  },
  {
   "cell_type": "code",
   "execution_count": 12,
   "metadata": {},
   "outputs": [
    {
     "data": {
      "text/plain": [
       "{'KTA': 14893,\n",
       " 'PLA': 19951,\n",
       " 'LJA': 22199,\n",
       " 'AAA': 16579,\n",
       " 'JXA': 17141,\n",
       " 'NFA': 12083}"
      ]
     },
     "execution_count": 12,
     "metadata": {},
     "output_type": "execute_result"
    }
   ],
   "source": [
    "def traverse_column_until_done(\n",
    "    network: dict[str, tuple[str, str]], instructions: str, root_key: str\n",
    "):\n",
    "    curr_key = root_key\n",
    "    path = []\n",
    "    while True:\n",
    "        for p in instructions:\n",
    "            curr_key = network[curr_key][int(p)]\n",
    "            path.append(curr_key)\n",
    "            if curr_key.endswith(\"Z\"):\n",
    "                return path\n",
    "\n",
    "\n",
    "def traverse_columns(\n",
    "    network: dict[str, tuple[str, str]], instructions: str, root_keys: [str]\n",
    "):\n",
    "    res_len = {}\n",
    "    for key in root_keys:\n",
    "        v = traverse_column_until_done(network, instructions, key)\n",
    "        res_len[key] = len(v)\n",
    "    return res_len\n",
    "\n",
    "\n",
    "col_len = traverse_columns(network, instructions, init_roots)\n",
    "col_len"
   ]
  },
  {
   "cell_type": "code",
   "execution_count": 13,
   "metadata": {},
   "outputs": [
    {
     "data": {
      "text/plain": [
       "12927600769609"
      ]
     },
     "execution_count": 13,
     "metadata": {},
     "output_type": "execute_result"
    }
   ],
   "source": [
    "from math import gcd\n",
    "\n",
    "\n",
    "def least_common_multiple(xs):\n",
    "    ans = 1\n",
    "    for x in xs:\n",
    "        ans = (x * ans) // gcd(x, ans)\n",
    "    return ans\n",
    "\n",
    "least_common_multiple(col_len.values())"
   ]
  }
 ],
 "metadata": {
  "kernelspec": {
   "display_name": ".venv",
   "language": "python",
   "name": "python3"
  },
  "language_info": {
   "codemirror_mode": {
    "name": "ipython",
    "version": 3
   },
   "file_extension": ".py",
   "mimetype": "text/x-python",
   "name": "python",
   "nbconvert_exporter": "python",
   "pygments_lexer": "ipython3",
   "version": "3.11.6"
  }
 },
 "nbformat": 4,
 "nbformat_minor": 2
}
