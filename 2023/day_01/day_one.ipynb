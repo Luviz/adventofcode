{
 "cells": [
  {
   "cell_type": "markdown",
   "metadata": {},
   "source": [
    "# [Day one](https://adventofcode.com/2023/day/1)\n"
   ]
  },
  {
   "cell_type": "code",
   "execution_count": 204,
   "metadata": {},
   "outputs": [],
   "source": [
    "import re\n",
    "from functools import reduce"
   ]
  },
  {
   "cell_type": "code",
   "execution_count": 205,
   "metadata": {},
   "outputs": [
    {
     "name": "stdout",
     "output_type": "stream",
     "text": [
      "1000\n"
     ]
    }
   ],
   "source": [
    "# Read inputs\n",
    "with open(\"input\") as f:\n",
    "    input = f.readlines()\n",
    "\n",
    "print(len(input))"
   ]
  },
  {
   "cell_type": "code",
   "execution_count": 206,
   "metadata": {},
   "outputs": [
    {
     "data": {
      "text/plain": [
       "[(44, '46threevqs8114\\n'),\n",
       " (11, 'threetwoonez1gtrd\\n'),\n",
       " (66, '6ffxbtff\\n'),\n",
       " (79, '769twotwo6rv9\\n'),\n",
       " (82, 'gjrcjrkvghthreegqqrg82qbct\\n')]"
      ]
     },
     "execution_count": 206,
     "metadata": {},
     "output_type": "execute_result"
    }
   ],
   "source": [
    "def handel_line(line: str) -> int:\n",
    "    clean_line = re.sub(\"[a-z\\n]\", \"\", line)\n",
    "    return int(f\"{clean_line[0]}{clean_line[-1]}\")\n",
    "\n",
    "[(handel_line(l), l) for l in input[0:5]]"
   ]
  },
  {
   "cell_type": "code",
   "execution_count": 207,
   "metadata": {},
   "outputs": [
    {
     "name": "stdout",
     "output_type": "stream",
     "text": [
      "len 1000\n"
     ]
    },
    {
     "data": {
      "text/plain": [
       "[44, 49, 37, 47, 88]"
      ]
     },
     "execution_count": 207,
     "metadata": {},
     "output_type": "execute_result"
    }
   ],
   "source": [
    "# extract number from line\n",
    "numbers = [handel_line(l) for l in input]\n",
    "print(\"len\", len(numbers))\n",
    "numbers[0:50:10]"
   ]
  },
  {
   "cell_type": "code",
   "execution_count": 208,
   "metadata": {},
   "outputs": [
    {
     "data": {
      "text/plain": [
       "53194"
      ]
     },
     "execution_count": 208,
     "metadata": {},
     "output_type": "execute_result"
    }
   ],
   "source": [
    "sum(numbers)"
   ]
  },
  {
   "cell_type": "markdown",
   "metadata": {},
   "source": [
    "## Part 2\n"
   ]
  },
  {
   "cell_type": "code",
   "execution_count": 247,
   "metadata": {},
   "outputs": [],
   "source": [
    "number_keys = [\n",
    "    \"zero\",\n",
    "    \"one\",\n",
    "    \"two\",\n",
    "    \"three\",\n",
    "    \"four\",\n",
    "    \"five\",\n",
    "    \"six\",\n",
    "    \"seven\",\n",
    "    \"eight\",\n",
    "    \"nine\",\n",
    "]\n",
    "pattern = reduce(lambda n, val: f\"{n}|{val}\", number_keys)\n",
    "value_pair = {key: str(value) for value, key in enumerate(number_keys)}\n",
    "# value_pair, pattern"
   ]
  },
  {
   "cell_type": "code",
   "execution_count": 252,
   "metadata": {},
   "outputs": [
    {
     "data": {
      "text/plain": [
       "('eightwonethree9', 'eightwonethreenine', ['8', '2', '1', '3', '9'], 89)"
      ]
     },
     "execution_count": 252,
     "metadata": {},
     "output_type": "execute_result"
    }
   ],
   "source": [
    "def convert_number_to_string_value(line: str) -> str:\n",
    "    return re.sub(\"[0-9]\", lambda match: number_keys[int(match.group())], line)\n",
    "\n",
    "\n",
    "def extract_numbers_from_text(line: str) -> str:\n",
    "    val_pos = []\n",
    "    for val in number_keys:\n",
    "        current_val_pos = line.find(val)\n",
    "        while current_val_pos > -1:\n",
    "            val_pos.append((val, current_val_pos))\n",
    "            current_val_pos = line.find(val, current_val_pos + 1)\n",
    "    val_pos.sort(key=lambda v: v[1])\n",
    "    return [value_pair[w] for w, _ in val_pos]\n",
    "\n",
    "\n",
    "def handel_line_2(line: str):\n",
    "    values = extract_numbers_from_text(convert_number_to_string_value(line))\n",
    "    return int(f\"{values[0]}{values[-1]}\")\n",
    "\n",
    "\n",
    "testStr = \"eightwonethree9\"\n",
    "testStr, convert_number_to_string_value(testStr), extract_numbers_from_text(\n",
    "    convert_number_to_string_value(testStr)\n",
    "), handel_line_2(testStr)"
   ]
  },
  {
   "cell_type": "code",
   "execution_count": 253,
   "metadata": {},
   "outputs": [
    {
     "name": "stdout",
     "output_type": "stream",
     "text": [
      "len = 1000\n"
     ]
    },
    {
     "data": {
      "text/plain": [
       "[(44, '46threevqs8114\\n'),\n",
       " (31, 'threetwoonez1gtrd\\n'),\n",
       " (66, '6ffxbtff\\n'),\n",
       " (79, '769twotwo6rv9\\n'),\n",
       " (32, 'gjrcjrkvghthreegqqrg82qbct\\n'),\n",
       " (88, 'zkxjhgprtrlcfeight795five8\\n'),\n",
       " (95, '99seven3vdcgvmvxtjtwodc5\\n'),\n",
       " (33, 'three5eightthree3four3vtkkqrgxs\\n'),\n",
       " (41, 'four863mrrnrsxrkone\\n'),\n",
       " (71, 'sevenntgvnrrqfvxh2ttnkgffour8fiveone\\n')]"
      ]
     },
     "execution_count": 253,
     "metadata": {},
     "output_type": "execute_result"
    }
   ],
   "source": [
    "# extract number from line\n",
    "numbers = [handel_line_2(l) for l in input]\n",
    "print(\"len =\", len(numbers))\n",
    "[(numbers[ix], input[ix]) for ix in range(len(input[:10]))]"
   ]
  },
  {
   "cell_type": "code",
   "execution_count": 244,
   "metadata": {},
   "outputs": [
    {
     "data": {
      "text/plain": [
       "54249"
      ]
     },
     "execution_count": 244,
     "metadata": {},
     "output_type": "execute_result"
    }
   ],
   "source": [
    "sum(numbers)"
   ]
  }
 ],
 "metadata": {
  "kernelspec": {
   "display_name": "Python 3",
   "language": "python",
   "name": "python3"
  },
  "language_info": {
   "codemirror_mode": {
    "name": "ipython",
    "version": 3
   },
   "file_extension": ".py",
   "mimetype": "text/x-python",
   "name": "python",
   "nbconvert_exporter": "python",
   "pygments_lexer": "ipython3",
   "version": "3.11.6"
  }
 },
 "nbformat": 4,
 "nbformat_minor": 2
}
