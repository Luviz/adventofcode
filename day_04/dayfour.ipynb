{
 "cells": [
  {
   "cell_type": "markdown",
   "metadata": {},
   "source": [
    "# day four"
   ]
  },
  {
   "cell_type": "code",
   "execution_count": 207,
   "metadata": {},
   "outputs": [],
   "source": [
    "import numpy as np"
   ]
  },
  {
   "cell_type": "markdown",
   "metadata": {},
   "source": [
    "## Part 1"
   ]
  },
  {
   "cell_type": "code",
   "execution_count": 217,
   "metadata": {},
   "outputs": [],
   "source": [
    "filename = \"test\"\n",
    "# filename = \"input\"\n",
    "def get_data(filename):\n",
    "    with open(filename) as f:\n",
    "        numbers = f.readline().strip().split(\",\")\n",
    "        numbers = np.array(numbers, dtype=\"int8\")\n",
    "        grids = [ln.strip().replace(\"  \", \" \").split(\" \") for ln in f.readlines()]\n",
    "        grids = [ln for ln in grids if len(ln) > 1]\n",
    "        grids = np.matrix(grids, dtype=\"int8\")\n",
    "        grids = np.split(grids, len(grids) // 5)\n",
    "        return numbers, grids\n",
    "\n",
    "\n",
    "numbers, grids = get_data(filename)\n"
   ]
  },
  {
   "cell_type": "code",
   "execution_count": 218,
   "metadata": {},
   "outputs": [
    {
     "name": "stdout",
     "output_type": "stream",
     "text": [
      "[[14 21 17 24  4]\n",
      " [10 16 15  9 19]\n",
      " [18  8 23 26 20]\n",
      " [22 11 13  6  5]\n",
      " [ 2  0 12  3  7]]\n"
     ]
    },
    {
     "data": {
      "text/plain": [
       "True"
      ]
     },
     "execution_count": 218,
     "metadata": {},
     "output_type": "execute_result"
    }
   ],
   "source": [
    "def isBingo(grid, selectedNumber):\n",
    "    if len(selectedNumber) < 5:\n",
    "        return False\n",
    "    # check cols\n",
    "    for iy in range(5):   \n",
    "        matches = 0 \n",
    "        for num in selectedNumber:\n",
    "            matches += num in grid[:,iy]\n",
    "            if matches >= 5:\n",
    "                return True\n",
    "\n",
    "    #check rows\n",
    "    for ix in range(5):   \n",
    "        matches = 0 \n",
    "        for num in selectedNumber:\n",
    "            matches += num in grid[ix,:]\n",
    "            if matches >= 5:\n",
    "                return True\n",
    "        \n",
    "print(grids[2])\n",
    "isBingo(grids[2], [7,4,9,5,11,17,23,2,0,14,21,24])\n"
   ]
  },
  {
   "cell_type": "code",
   "execution_count": 219,
   "metadata": {},
   "outputs": [
    {
     "data": {
      "text/plain": [
       "matrix([[14, 21, 17, 24,  4],\n",
       "        [10, 16, 15,  9, 19],\n",
       "        [18,  8, 23, 26, 20],\n",
       "        [22, 11, 13,  6,  5],\n",
       "        [ 2,  0, 12,  3,  7]], dtype=int8)"
      ]
     },
     "execution_count": 219,
     "metadata": {},
     "output_type": "execute_result"
    }
   ],
   "source": [
    "grids[-1]"
   ]
  },
  {
   "cell_type": "code",
   "execution_count": 220,
   "metadata": {},
   "outputs": [
    {
     "name": "stdout",
     "output_type": "stream",
     "text": [
      "selectedNumber = [7, 4, 9, 5, 11, 17, 23, 2, 0, 14, 21, 24]\n",
      "sum(selectedNumber) = 137\n",
      "[[14 21 17 24  4]\n",
      " [10 16 15  9 19]\n",
      " [18  8 23 26 20]\n",
      " [22 11 13  6  5]\n",
      " [ 2  0 12  3  7]]\n",
      "done\n"
     ]
    }
   ],
   "source": [
    "selectedNumber = []\n",
    "try: \n",
    "    for num in numbers:\n",
    "        selectedNumber.append(num)\n",
    "        # print(selectedNumber)\n",
    "        for grid in grids:\n",
    "            if (isBingo(grid, selectedNumber)):\n",
    "                print(f\"{selectedNumber = }\")\n",
    "                print(f\"{sum(selectedNumber) = }\")\n",
    "                print(grid)\n",
    "                raise StopIteration\n",
    "\n",
    "except StopIteration as si:\n",
    "    pass\n",
    "finally:\n",
    "    print(\"done\")\n"
   ]
  },
  {
   "cell_type": "markdown",
   "metadata": {},
   "source": [
    "well it seems like I missed the part that the sum is going be the unmarked numbers,\n",
    "so I had calc the val manually. \n",
    "\n",
    "And I made the solution allot harder the it should have been. "
   ]
  },
  {
   "cell_type": "code",
   "execution_count": 221,
   "metadata": {},
   "outputs": [
    {
     "data": {
      "text/plain": [
       "14093"
      ]
     },
     "execution_count": 221,
     "metadata": {},
     "output_type": "execute_result"
    }
   ],
   "source": [
    "sum([34, 81, 75, 42, 27, 59, 20, 87, 45, 46, 23, 76, 40, 25, 96, 53]) * 17"
   ]
  },
  {
   "cell_type": "markdown",
   "metadata": {},
   "source": [
    "## Part 2\n",
    "what we need to is to pop each bingo card out til we get one card remaining.\n",
    "\n",
    "### Retrying part 1\n",
    "because I misunderstood the validation and task of part 2 I think will remake the part one agin   "
   ]
  },
  {
   "cell_type": "code",
   "execution_count": 222,
   "metadata": {},
   "outputs": [],
   "source": [
    "def find_and_replace_value(grid, value, newvalue):\n",
    "    if (value in grid):\n",
    "        x, y = np.where(grid == value)\n",
    "        grid[x,y] = newvalue\n",
    "\n",
    "def is_bingo(grid):\n",
    "    for ix in range(5):\n",
    "        if np.sum(grid[ix,:]) <= -5:\n",
    "            return True\n",
    "    for iy in range(5):\n",
    "        if np.sum(grid[:,iy]) <= -5:\n",
    "            return True\n",
    "    return False\n"
   ]
  },
  {
   "cell_type": "code",
   "execution_count": 223,
   "metadata": {},
   "outputs": [
    {
     "data": {
      "text/plain": [
       "False"
      ]
     },
     "execution_count": 223,
     "metadata": {},
     "output_type": "execute_result"
    }
   ],
   "source": [
    "is_bingo(grids[2])"
   ]
  },
  {
   "cell_type": "code",
   "execution_count": 224,
   "metadata": {},
   "outputs": [
    {
     "name": "stdout",
     "output_type": "stream",
     "text": [
      "[[14 21 17 24  4]\n",
      " [10 16 15  9 19]\n",
      " [18  8 23 26 20]\n",
      " [22 11 13  6  5]\n",
      " [ 2  0 12  3  7]]\n",
      "[[14 21 17 24  4]\n",
      " [10 16 15  9 19]\n",
      " [18  8 23 26 20]\n",
      " [22 11 13  6  5]\n",
      " [ 2  0 12  3  7]]\n"
     ]
    },
    {
     "data": {
      "text/plain": [
       "325"
      ]
     },
     "execution_count": 224,
     "metadata": {},
     "output_type": "execute_result"
    }
   ],
   "source": [
    "print(grid)\n",
    "find_and_replace_value(grid, -1, 0)\n",
    "print(grid)\n",
    "np.sum(grid)"
   ]
  },
  {
   "cell_type": "code",
   "execution_count": 229,
   "metadata": {},
   "outputs": [],
   "source": [
    "# numbers, grids = get_data(\"test\")\n",
    "numbers, grids = get_data(\"input\")\n"
   ]
  },
  {
   "cell_type": "code",
   "execution_count": 230,
   "metadata": {},
   "outputs": [
    {
     "name": "stdout",
     "output_type": "stream",
     "text": [
      "BINGO!!!\n",
      "[[34 -1 81 75 42]\n",
      " [27 -1 59 20 87]\n",
      " [45 -1 46 23 76]\n",
      " [40 -1 -1 25 96]\n",
      " [-1 -1 -1 53 -1]]\n",
      "Ans:  14093\n",
      "done\n"
     ]
    }
   ],
   "source": [
    "try:\n",
    "    for i in numbers:\n",
    "        for grid in grids:\n",
    "            find_and_replace_value(grid, i, -1)\n",
    "            if is_bingo(grid):\n",
    "                print(\"BINGO!!!\")\n",
    "                print(grid)\n",
    "                find_and_replace_value(grid, -1, 0)\n",
    "                print(\"Ans: \",np.sum(grid)* i)\n",
    "                raise StopIteration\n",
    "except StopIteration:\n",
    "    print(\"done\")\n"
   ]
  },
  {
   "cell_type": "markdown",
   "metadata": {},
   "source": [
    "### part 2"
   ]
  },
  {
   "cell_type": "code",
   "execution_count": 334,
   "metadata": {},
   "outputs": [],
   "source": [
    "# numbers, grids = get_data(\"test\")\n",
    "numbers, grids = get_data(\"input\")\n"
   ]
  },
  {
   "cell_type": "code",
   "execution_count": 343,
   "metadata": {},
   "outputs": [
    {
     "name": "stdout",
     "output_type": "stream",
     "text": [
      "100\n",
      "100\n",
      "100\n",
      "100\n",
      "100\n",
      "100\n",
      "100\n",
      "100\n",
      "100\n",
      "100\n",
      "100\n",
      "100\n",
      "100\n",
      "100\n",
      "100\n",
      "100\n",
      "100\n",
      "100\n",
      "100\n",
      "100\n",
      "100\n",
      "40\n",
      "99\n",
      "99\n",
      "99\n",
      "99\n",
      "99\n",
      "17\n",
      "98\n",
      "98\n",
      "98\n",
      "47\n",
      "97\n",
      "97\n",
      "97\n",
      "97\n",
      "97\n",
      "97\n",
      "97\n",
      "79\n",
      "80\n",
      "96\n",
      "72\n",
      "95\n",
      "95\n",
      "95\n",
      "41\n",
      "94\n",
      "94\n",
      "26\n",
      "93\n",
      "55\n",
      "68\n",
      "92\n",
      "22\n",
      "91\n",
      "18\n",
      "43\n",
      "90\n",
      "23\n",
      "72\n",
      "89\n",
      "73\n",
      "88\n",
      "15\n",
      "82\n",
      "87\n",
      "5\n",
      "45\n",
      "86\n",
      "38\n",
      "85\n",
      "6\n",
      "56\n",
      "84\n",
      "21\n",
      "75\n",
      "83\n",
      "83\n",
      "4\n",
      "81\n",
      "82\n",
      "27\n",
      "36\n",
      "56\n",
      "81\n",
      "7\n",
      "47\n",
      "80\n",
      "8\n",
      "13\n",
      "44\n",
      "79\n",
      "14\n",
      "24\n",
      "26\n",
      "53\n",
      "63\n",
      "76\n",
      "78\n",
      "2\n",
      "77\n",
      "1\n",
      "44\n",
      "68\n",
      "76\n",
      "11\n",
      "32\n",
      "33\n",
      "37\n",
      "43\n",
      "75\n",
      "42\n",
      "59\n",
      "67\n",
      "69\n",
      "70\n",
      "74\n",
      "15\n",
      "24\n",
      "28\n",
      "34\n",
      "48\n",
      "73\n",
      "67\n",
      "72\n",
      "2\n",
      "8\n",
      "44\n",
      "68\n",
      "71\n",
      "71\n",
      "16\n",
      "31\n",
      "48\n",
      "53\n",
      "65\n",
      "70\n",
      "39\n",
      "56\n",
      "64\n",
      "69\n",
      "55\n",
      "61\n",
      "68\n",
      "51\n",
      "61\n",
      "67\n",
      "40\n",
      "59\n",
      "65\n",
      "66\n",
      "66\n",
      "9\n",
      "18\n",
      "65\n",
      "29\n",
      "51\n",
      "64\n",
      "45\n",
      "59\n",
      "63\n",
      "63\n",
      "10\n",
      "37\n",
      "62\n",
      "18\n",
      "28\n",
      "54\n",
      "61\n",
      "61\n",
      "61\n",
      "20\n",
      "51\n",
      "60\n",
      "60\n",
      "0\n",
      "43\n",
      "59\n",
      "35\n",
      "58\n",
      "26\n",
      "57\n",
      "57\n",
      "44\n",
      "56\n",
      "56\n",
      "56\n",
      "56\n",
      "56\n",
      "56\n",
      "56\n",
      "56\n",
      "56\n",
      "19\n",
      "55\n",
      "55\n",
      "43\n",
      "54\n",
      "54\n",
      "54\n",
      "0\n",
      "1\n",
      "2\n",
      "3\n",
      "4\n",
      "5\n",
      "6\n",
      "7\n",
      "8\n",
      "9\n",
      "10\n",
      "11\n",
      "12\n",
      "13\n",
      "14\n",
      "15\n",
      "16\n",
      "17\n",
      "18\n",
      "19\n",
      "20\n",
      "21\n",
      "22\n",
      "23\n",
      "24\n",
      "25\n",
      "26\n",
      "27\n",
      "28\n",
      "29\n",
      "30\n",
      "31\n",
      "32\n",
      "33\n",
      "34\n",
      "35\n",
      "36\n",
      "37\n",
      "38\n",
      "39\n",
      "40\n",
      "41\n",
      "42\n",
      "43\n",
      "44\n",
      "45\n",
      "46\n",
      "47\n",
      "48\n",
      "49\n",
      "50\n",
      "51\n",
      "52\n",
      "53\n",
      "53\n",
      "53\n"
     ]
    }
   ],
   "source": [
    "numbers, grids = get_data(\"input\")\n",
    "bingo_ix = -1\n",
    "try:\n",
    "    for i in numbers:\n",
    "        if bingo_ix >= 0:\n",
    "            ## clear all invalid bingos\n",
    "            for ix, grid in reversed(list(enumerate(grids))):\n",
    "                x,y = np.where(grids == 0)\n",
    "                if len(x) >= 5:\n",
    "                    grids.pop(ix)\n",
    "\n",
    "            bingo_ix = -1\n",
    "\n",
    "        # print(len(grids))\n",
    "        for ix, grid in enumerate(grids):\n",
    "            find_and_replace_value(grid, i, -1)\n",
    "            if is_bingo(grid):\n",
    "                # print(\"BINGO!!!\")\n",
    "                # print(grid)\n",
    "                find_and_replace_value(grid, -1, 0)\n",
    "                # print(\"Ans: \",np.sum(grid)* i)\n",
    "                bingo_ix = ix\n",
    "                print(ix)\n",
    "                # raise StopIteration\n",
    "except StopIteration:\n",
    "    print(\"done\")\n",
    "# grids"
   ]
  },
  {
   "cell_type": "code",
   "execution_count": 349,
   "metadata": {},
   "outputs": [
    {
     "data": {
      "text/plain": [
       "(array([0, 0, 0, 0, 0, 1, 1, 1, 1, 1, 2, 2, 2, 2, 3, 3, 3, 3, 3, 4, 4, 4,\n",
       "        4, 4]),\n",
       " array([0, 1, 2, 3, 4, 0, 1, 2, 3, 4, 0, 1, 2, 4, 0, 1, 2, 3, 4, 0, 1, 2,\n",
       "        3, 4]))"
      ]
     },
     "execution_count": 349,
     "metadata": {},
     "output_type": "execute_result"
    }
   ],
   "source": [
    "np.where(grids[0] == 0)"
   ]
  }
 ],
 "metadata": {
  "interpreter": {
   "hash": "e7370f93d1d0cde622a1f8e1c04877d8463912d04d973331ad4851f04de6915a"
  },
  "kernelspec": {
   "display_name": "Python 3.9.9 64-bit",
   "language": "python",
   "name": "python3"
  },
  "language_info": {
   "codemirror_mode": {
    "name": "ipython",
    "version": 3
   },
   "file_extension": ".py",
   "mimetype": "text/x-python",
   "name": "python",
   "nbconvert_exporter": "python",
   "pygments_lexer": "ipython3",
   "version": "3.9.9"
  },
  "orig_nbformat": 4
 },
 "nbformat": 4,
 "nbformat_minor": 2
}
