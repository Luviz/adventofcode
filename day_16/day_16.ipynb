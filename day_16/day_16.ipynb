{
 "cells": [
  {
   "cell_type": "markdown",
   "metadata": {},
   "source": [
    "# Day 16 \n",
    "After a good try on the bit wise operation I reslied that we need at least a clock plus or an inverted signal.   \n",
    "So now let do it with string manipulation "
   ]
  },
  {
   "cell_type": "code",
   "execution_count": 232,
   "metadata": {},
   "outputs": [],
   "source": [
    "def get_data(filename):\n",
    "    with open(filename) as f:\n",
    "        return int(f.readline(),16)\n",
    "        \n",
    "\n",
    "def get_bins(value):\n",
    "    line = bin(value).replace('0b', '')\n",
    "    if len(line) % 4 != 0 :\n",
    "        line = '0' * (4-(len(line) % 4)) + line\n",
    "    return line\n",
    "\n",
    "def bin_to_int(string:str):\n",
    "    if string.isnumeric():\n",
    "        return int(string, 2)\n",
    "    return 0\n",
    "data = get_data(\"input\")\n",
    "# data"
   ]
  },
  {
   "cell_type": "code",
   "execution_count": 144,
   "metadata": {},
   "outputs": [
    {
     "data": {
      "text/plain": [
       "('meh', 'On to you')"
      ]
     },
     "execution_count": 144,
     "metadata": {},
     "output_type": "execute_result"
    }
   ],
   "source": [
    "def sub_string(string:str, at:int):\n",
    "    return string[0:at], string[at:]\n",
    "\n",
    "sub_string(\"mehOn to you\", 3)"
   ]
  },
  {
   "cell_type": "code",
   "execution_count": 145,
   "metadata": {},
   "outputs": [
    {
     "data": {
      "text/plain": [
       "'0b100'"
      ]
     },
     "execution_count": 145,
     "metadata": {},
     "output_type": "execute_result"
    }
   ],
   "source": [
    "bin(4)"
   ]
  },
  {
   "cell_type": "code",
   "execution_count": 233,
   "metadata": {},
   "outputs": [
    {
     "name": "stdout",
     "output_type": "stream",
     "text": [
      "True 16 [4, 1, 5, 6, 0]\n",
      "True 12 [3, 0, 0, 5, 1, 0, 3, 0]\n",
      "True 23 [6, 0, 0, 6, 4, 7, 0, 0]\n",
      "True 31 [5, 1, 3, 7, 6, 5, 2, 2, 0]\n"
     ]
    }
   ],
   "source": [
    "# data = get_bins(0x8A004A801A8002F478)\n",
    "phase = 'init'\n",
    "def literal(string:str):\n",
    "    def literal_value(packets):\n",
    "        return int(\"\".join([f\"{bin_to_int(p):04b}\" for p in packets]), 2)\n",
    "\n",
    "    hasnext = '1'\n",
    "    data_stack = []\n",
    "    while hasnext == '1':\n",
    "        hasnext, string = sub_string(string,1)\n",
    "        # print(hasnext)\n",
    "        d, string = sub_string(string, 4)\n",
    "        data_stack.append(d)\n",
    "    \n",
    "    return literal_value(data_stack), string\n",
    "\n",
    "def get_versions(hexval):\n",
    "    data = get_bins(hexval)\n",
    "    versions = []\n",
    "    while len(data) > 0 :\n",
    "        ver, data = sub_string(data, 3)\n",
    "        typ, data = sub_string(data, 3)\n",
    "        versions.append(bin_to_int(ver))\n",
    "        if typ == '100': # 4 == 0b0100\n",
    "            a, data= literal(data)\n",
    "        else:\n",
    "            inst, data = sub_string(data, 1)\n",
    "            if inst == '1':\n",
    "                _, data = sub_string(data, 11)\n",
    "            else:\n",
    "                _, data = sub_string(data, 15)\n",
    "    return versions\n",
    "            \n",
    "  \n",
    "# print(versions)\n",
    "# print(sum(versions))\n",
    "\n",
    "test_data = [\n",
    "    (0x8A004A801A8002F478, 16),\n",
    "    (0x620080001611562C8802118E34, 12),\n",
    "    (0xC0015000016115A2E0802F182340, 23),\n",
    "    (0xA0016C880162017C3686B18A3D4780, 31),\n",
    "]\n",
    "\n",
    "for data, expected in test_data:\n",
    "    res = get_versions(data)\n",
    "    print(sum(res) == expected, expected, res)\n"
   ]
  },
  {
   "cell_type": "code",
   "execution_count": 234,
   "metadata": {},
   "outputs": [
    {
     "name": "stdout",
     "output_type": "stream",
     "text": [
      "936 [3, 7, 7, 3, 5, 3, 1, 4, 6, 5, 4, 0, 0, 7, 5, 7, 1, 5, 6, 1, 7, 0, 3, 2, 5, 4, 1, 2, 0, 6, 4, 7, 0, 7, 0, 2, 3, 4, 2, 1, 4, 1, 5, 3, 7, 0, 2, 7, 2, 2, 2, 3, 0, 7, 4, 0, 3, 5, 4, 6, 0, 0, 3, 4, 3, 5, 7, 2, 1, 2, 2, 5, 4, 2, 6, 1, 0, 0, 7, 2, 0, 5, 3, 5, 3, 2, 1, 1, 4, 4, 6, 5, 3, 3, 1, 2, 1, 3, 7, 0, 1, 1, 7, 0, 2, 2, 5, 5, 1, 4, 3, 5, 1, 6, 4, 7, 5, 0, 4, 7, 1, 1, 6, 3, 7, 0, 3, 0, 0, 2, 6, 7, 0, 3, 1, 3, 0, 2, 3, 1, 6, 5, 6, 4, 3, 5, 4, 4, 7, 6, 7, 3, 4, 1, 3, 2, 3, 2, 5, 0, 0, 1, 7, 3, 5, 4, 2, 6, 2, 7, 1, 2, 3, 2, 6, 7, 0, 6, 7, 3, 1, 5, 5, 7, 2, 6, 3, 6, 7, 6, 2, 4, 6, 5, 7, 4, 0, 7, 4, 7, 0, 6, 5, 7, 1, 3, 5, 2, 1, 7, 5, 4, 0, 6, 5, 2, 1, 7, 5, 7, 3, 5, 4, 6, 1, 0, 2, 7, 3, 6, 1, 0, 0, 5, 2, 3, 2, 7, 2, 7, 0, 1, 0, 3, 5, 0, 5, 6, 5, 6, 3, 3, 5, 0, 6, 5, 5, 5, 7, 2, 3, 4, 6, 2, 3, 2, 4, 6, 0]\n"
     ]
    }
   ],
   "source": [
    "data = get_data('input')\n",
    "res = get_versions(data)\n",
    "print(sum(res), res)\n"
   ]
  }
 ],
 "metadata": {
  "language_info": {
   "name": "python"
  },
  "orig_nbformat": 4
 },
 "nbformat": 4,
 "nbformat_minor": 2
}
