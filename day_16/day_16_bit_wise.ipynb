{
 "cells": [
  {
   "cell_type": "code",
   "execution_count": 75,
   "metadata": {},
   "outputs": [],
   "source": [
    "def get_data(filename):\n",
    "    with open(filename) as f:\n",
    "        return int(f.readline(), 16)\n",
    "\n",
    "\n",
    "def get_segment(value: int, mask: int, offset=0) -> int:\n",
    "    return value >> (value.bit_length() - offset) & mask\n",
    "\n",
    "\n",
    "def get_packet_metadata(value, offset=0):\n",
    "    ver = get_segment(value, 0b111, 3 + offset)\n",
    "    typ = get_segment(value, 0b111, 6 + offset)\n",
    "    return ver, typ\n",
    "\n",
    "\n",
    "def read_packets(value: int, offset=0):\n",
    "    \"\"\"\n",
    "    the offset must be set at 6 to exclude ver and type of packet\n",
    "    \"\"\"\n",
    "    currentLocation = offset + 6\n",
    "    packets = []\n",
    "    hasNext = 1\n",
    "    while hasNext:\n",
    "        currentLocation += 1\n",
    "        hasNext = get_segment(value, 0b1, currentLocation)\n",
    "\n",
    "        currentLocation += 4\n",
    "        pkg = get_segment(value, 0b1111, currentLocation)\n",
    "        packets.append(pkg)\n",
    "\n",
    "        if currentLocation > value.bit_length() + 5:\n",
    "            raise Exception(\"failed...\")\n",
    "\n",
    "    return packets, currentLocation\n",
    "\n",
    "\n",
    "def literal_value(packets):\n",
    "    return int(\"\".join([f\"{p:04b}\" for p in packets]), 2)\n",
    "\n",
    "\n",
    "def get_L_value(val):\n",
    "    i_val = get_segment(val, 0b1, 7)\n",
    "    l_mask_len = (0x7FF, 11 + 7) if i_val else (0x7FFF, 15 + 7)\n",
    "    return i_val, get_segment(val, *l_mask_len), l_mask_len[1]\n",
    "\n",
    "\n",
    "def get_sub_packet(val, start, end):\n",
    "    length = end - start\n",
    "    mask = (1 << length) - 1\n",
    "    return get_segment(val, mask, end)\n",
    "\n",
    "\n",
    "def correction_bit(val: int):\n",
    "    if val.bit_length() % 4 == 0:\n",
    "        return 0\n",
    "    return 1 << ((val.bit_length() % 4) + (val.bit_length() - 1))\n",
    "\n",
    "def find_literal_offset(value:int) -> int:\n",
    "    offset = 0\n",
    "    _, typ = get_packet_metadata(value, offset)\n",
    "    while (typ != 4):\n",
    "        if offset < -4: return 0 \n",
    "        offset -= 1\n",
    "        _, typ = get_packet_metadata(value, offset)\n",
    "    return offset\n",
    "\n",
    "\n",
    "def handel_sub_packets(subpkg, i_val: int, l_data: int):\n",
    "    result = []\n",
    "    offset = find_literal_offset(subpkg)\n",
    "    if i_val == 0:\n",
    "        while offset < l_data:\n",
    "            v, t = get_packet_metadata(subpkg, offset)\n",
    "            p, offset = read_packets(subpkg, offset)\n",
    "            result.append((v, t, literal_value(p)))\n",
    "    elif i_val == 1:\n",
    "        count = 0\n",
    "        while count < l_data:\n",
    "            v, t = get_packet_metadata(subpkg, offset)\n",
    "            p, offset = read_packets(subpkg, offset)\n",
    "            result.append((v, t, literal_value(p)))\n",
    "            count += 1\n",
    "    else:\n",
    "        raise Exception\n",
    "\n",
    "    return result\n"
   ]
  },
  {
   "cell_type": "markdown",
   "metadata": {},
   "source": [
    "### Sample data 1"
   ]
  },
  {
   "cell_type": "code",
   "execution_count": 2,
   "metadata": {},
   "outputs": [
    {
     "name": "stdout",
     "output_type": "stream",
     "text": [
      "[7, 14, 5] 21\n"
     ]
    },
    {
     "data": {
      "text/plain": [
       "2021"
      ]
     },
     "execution_count": 2,
     "metadata": {},
     "output_type": "execute_result"
    }
   ],
   "source": [
    "val = 0XD2FE28\n",
    "packets,offset = read_packets(val)\n",
    "print(packets,offset)\n",
    "literal_value(packets)"
   ]
  },
  {
   "cell_type": "markdown",
   "metadata": {},
   "source": [
    "### Sample data 2"
   ]
  },
  {
   "cell_type": "code",
   "execution_count": 76,
   "metadata": {},
   "outputs": [
    {
     "name": "stdout",
     "output_type": "stream",
     "text": [
      "2\n",
      "5 6\n",
      "test 0\n",
      "ver= 1, typ= 6\n",
      "0 27 22\n",
      "22 49 56\n",
      "0b1101000101001010010001001000000000\n"
     ]
    },
    {
     "data": {
      "text/plain": [
       "[(6, 4, 10), (2, 4, 20)]"
      ]
     },
     "execution_count": 76,
     "metadata": {},
     "output_type": "execute_result"
    }
   ],
   "source": [
    "# data = get_data(\"input\")\n",
    "data = 0x38006F45291200\n",
    "correction = correction_bit(data)\n",
    "print(data.bit_length() % 4)\n",
    "# print(bin(data))\n",
    "data |= correction\n",
    "ver, typ = get_packet_metadata(data)\n",
    "# print(bin(correction))\n",
    "# print(bin(data))\n",
    "print(ver, typ)\n",
    "if correction > 0 :\n",
    "    print(\"test\", data.bit_length() % 4)\n",
    "    ver &= 0b011\n",
    "print(f\"{ver= }, {typ= }\")\n",
    "i, l, new_offset = get_L_value(data)\n",
    "# new_offset -= 1\n",
    "print(i,l, new_offset)\n",
    "print(new_offset, new_offset+l, data.bit_length())\n",
    "# get sub pkg\n",
    "subpkg = get_sub_packet(data, new_offset, data.bit_length())\n",
    "print(bin(subpkg))\n",
    "handel_sub_packets(subpkg, i, l)"
   ]
  },
  {
   "cell_type": "code",
   "execution_count": 48,
   "metadata": {},
   "outputs": [
    {
     "data": {
      "text/plain": [
       "2"
      ]
     },
     "execution_count": 48,
     "metadata": {},
     "output_type": "execute_result"
    }
   ],
   "source": [
    "0b1101000101001010010001001000000000.bit_length()%4"
   ]
  },
  {
   "cell_type": "markdown",
   "metadata": {},
   "source": [
    "### Sample Data 3"
   ]
  },
  {
   "cell_type": "code",
   "execution_count": 80,
   "metadata": {},
   "outputs": [
    {
     "name": "stdout",
     "output_type": "stream",
     "text": [
      "0\n",
      "7 3\n",
      "ver= 7, typ= 3\n",
      "1 3 18\n",
      "18 21 56\n",
      "0b1010000001100100000100011000001100000\n"
     ]
    },
    {
     "data": {
      "text/plain": [
       "[(2, 4, 1), (4, 4, 2), (1, 4, 3)]"
      ]
     },
     "execution_count": 80,
     "metadata": {},
     "output_type": "execute_result"
    }
   ],
   "source": [
    "# data = get_data(\"input\")\n",
    "data = 0xEE00D40C823060\n",
    "correction = correction_bit(data)\n",
    "print(data.bit_length() % 4)\n",
    "# print(bin(data))\n",
    "data |= correction\n",
    "ver, typ = get_packet_metadata(data)\n",
    "# print(bin(correction))\n",
    "# print(bin(data))\n",
    "print(ver, typ)\n",
    "if correction > 0 :\n",
    "    print(\"test\", data.bit_length() % 4)\n",
    "    ver &= 0b011\n",
    "print(f\"{ver= }, {typ= }\")\n",
    "i, l, new_offset = get_L_value(data)\n",
    "# new_offset -= 1\n",
    "print(i,l, new_offset)\n",
    "print(new_offset, new_offset+l, data.bit_length())\n",
    "# get sub pkg\n",
    "subpkg = get_sub_packet(data, new_offset, data.bit_length())\n",
    "print(bin(subpkg))\n",
    "handel_sub_packets(subpkg, i, l)"
   ]
  },
  {
   "cell_type": "code",
   "execution_count": 93,
   "metadata": {},
   "outputs": [],
   "source": [
    "def handel_packets(value):\n",
    "    correction = correction_bit(value)\n",
    "    value |= correction\n",
    "    ver, typ = get_packet_metadata(value)\n",
    "    if correction > 0 :\n",
    "        print(\"test\", data.bit_length() % 4)\n",
    "        ver &= 0b011\n"
   ]
  },
  {
   "cell_type": "code",
   "execution_count": 92,
   "metadata": {},
   "outputs": [
    {
     "data": {
      "text/plain": [
       "1"
      ]
     },
     "execution_count": 92,
     "metadata": {},
     "output_type": "execute_result"
    }
   ],
   "source": [
    "0b1010000001100100000100011000001100000.bit_length() % 4"
   ]
  },
  {
   "cell_type": "code",
   "execution_count": 74,
   "metadata": {},
   "outputs": [
    {
     "data": {
      "text/plain": [
       "-3"
      ]
     },
     "execution_count": 74,
     "metadata": {},
     "output_type": "execute_result"
    }
   ],
   "source": [
    "find_literal_offset(0b1000001100100000100011000001100000)"
   ]
  },
  {
   "cell_type": "code",
   "execution_count": 9,
   "metadata": {},
   "outputs": [
    {
     "data": {
      "text/plain": [
       "20"
      ]
     },
     "execution_count": 9,
     "metadata": {},
     "output_type": "execute_result"
    }
   ],
   "source": [
    "p, _ = read_packets(subpkg, offset=11)\n",
    "literal_value(p)"
   ]
  },
  {
   "cell_type": "code",
   "execution_count": 95,
   "metadata": {},
   "outputs": [
    {
     "data": {
      "text/plain": [
       "0"
      ]
     },
     "execution_count": 95,
     "metadata": {},
     "output_type": "execute_result"
    }
   ],
   "source": [
    "bin(0x8A004A801A8002F478)"
   ]
  },
  {
   "cell_type": "code",
   "execution_count": 91,
   "metadata": {},
   "outputs": [
    {
     "name": "stdout",
     "output_type": "stream",
     "text": [
      "0b10100010\n",
      "0b11111111\n",
      "0b1100010\n",
      "0b11110000\n"
     ]
    }
   ],
   "source": [
    "print(bin(0xa2), )\n",
    "print(bin(0xff), )\n",
    "print(bin(0x62 & 0xff))\n",
    "print(bin(0xf << 4))"
   ]
  }
 ],
 "metadata": {
  "interpreter": {
   "hash": "e7370f93d1d0cde622a1f8e1c04877d8463912d04d973331ad4851f04de6915a"
  },
  "kernelspec": {
   "display_name": "Python 3.10.1 64-bit",
   "language": "python",
   "name": "python3"
  },
  "language_info": {
   "codemirror_mode": {
    "name": "ipython",
    "version": 3
   },
   "file_extension": ".py",
   "mimetype": "text/x-python",
   "name": "python",
   "nbconvert_exporter": "python",
   "pygments_lexer": "ipython3",
   "version": "3.10.1"
  },
  "orig_nbformat": 4
 },
 "nbformat": 4,
 "nbformat_minor": 2
}
