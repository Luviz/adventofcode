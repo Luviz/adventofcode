{
 "cells": [
  {
   "cell_type": "code",
   "execution_count": 19,
   "metadata": {},
   "outputs": [],
   "source": [
    "closures = \")]}>\"\n",
    "openers =  \"([{<\"\n",
    "openings = {c: o for c, o in zip(closures, openers)}\n",
    "closings = {c: o for c, o in zip(openers, closures)}\n",
    "\n",
    "points = {c: o for c, o in zip(closures, [3, 57, 1197, 25137])}\n"
   ]
  },
  {
   "cell_type": "code",
   "execution_count": 20,
   "metadata": {},
   "outputs": [],
   "source": [
    "def get_data(filename):\n",
    "    with open(filename) as f:\n",
    "        return [ln.strip() for ln in f.readlines()]\n",
    "\n",
    "\n",
    "data = get_data(\"test\")\n",
    "# data = get_data('input')"
   ]
  },
  {
   "cell_type": "code",
   "execution_count": 21,
   "metadata": {},
   "outputs": [],
   "source": [
    "def replace_str_at(text,index=0,replacement=''):\n",
    "    return f\"{text[:index]}{replacement}{text[index+1:]}\"\n",
    "\n",
    "def findIssues(script: str):\n",
    "    stack = []\n",
    "    for ix, char in enumerate(script):\n",
    "        # if char is a closure\n",
    "        if char in openers:\n",
    "            stack.append(char)\n",
    "        else:\n",
    "            # check that we can close it\n",
    "            # print(char ,openings[char], ' :',f'{stack[-1] = }', f'{stack = }')\n",
    "            if openings[char] == stack[-1]:\n",
    "                stack.pop()\n",
    "            else:\n",
    "                # print(char, )\n",
    "                raise ValueError(\n",
    "                    {\n",
    "                        \"msg\": f\"input error: Expected {closings[stack[-1]]} but found {char} at ch: {ix}\",\n",
    "                        \"ix\": ix,\n",
    "                        \"correct_closure\": closings[stack[-1]],\n",
    "                        \"correct_char\": char,\n",
    "                    }\n",
    "                )\n",
    "    return stack\n"
   ]
  },
  {
   "cell_type": "code",
   "execution_count": 39,
   "metadata": {},
   "outputs": [
    {
     "name": "stdout",
     "output_type": "stream",
     "text": [
      "55 ['>', '}', ']', ')', ')', ')', '>', ')', '>', '>', '>', ')', '}', ']', ']', '}', '}', ')', ')', ']', ')', '}', ')', ')', ']', '}', ')', '}', '}', ')', '>', ')', ')', '>', ')', ')', '}', '}', ')', '>', '>', '>', ')', '>', ']', '>', ']', ']', '>', ']', '}', ']', '}', '>', '>']\n",
      "Answer 392043\n"
     ]
    }
   ],
   "source": [
    "# data = get_data('test')\n",
    "data = get_data('input')\n",
    "errors = []\n",
    "reaming = []\n",
    "issues = True\n",
    "while issues:\n",
    "    issues = False\n",
    "    for ix, d in enumerate(data):\n",
    "        try:\n",
    "            res = findIssues(d)\n",
    "            reaming.append(res)\n",
    "        except ValueError as ve:\n",
    "            err_data = ve.args[0]\n",
    "            # print(ix,err_data[\"msg\"])\n",
    "            errors.append((err_data['correct_char']))\n",
    "            # issues = True\n",
    "            # data[ix][err_data['ix']] = err_data['correct_closure']\n",
    "            ## fix \n",
    "            # data[ix] = replace_str_at(d, err_data['ix'], err_data['correct_closure'])\n",
    "\n",
    "print(len(errors), errors)\n",
    "print('Answer',sum([points[e] for e in errors]))\n"
   ]
  },
  {
   "cell_type": "code",
   "execution_count": 40,
   "metadata": {},
   "outputs": [],
   "source": [
    "correction_points = {\n",
    "    \"(\": 1,\n",
    "    \"[\": 2,\n",
    "    \"{\": 3,\n",
    "    \"<\": 4,\n",
    "}\n"
   ]
  },
  {
   "cell_type": "markdown",
   "metadata": {},
   "source": [
    "## Part 2"
   ]
  },
  {
   "cell_type": "code",
   "execution_count": 41,
   "metadata": {},
   "outputs": [
    {
     "data": {
      "text/plain": [
       "9280238"
      ]
     },
     "execution_count": 41,
     "metadata": {},
     "output_type": "execute_result"
    }
   ],
   "source": [
    "def calc_points(chars:list):\n",
    "    score = 0 \n",
    "    for char in chars[::-1]:\n",
    "        score = score * 5 + correction_points[char]\n",
    "    return score\n",
    "\n",
    "calc_points(reaming[4])"
   ]
  },
  {
   "cell_type": "code",
   "execution_count": 42,
   "metadata": {},
   "outputs": [
    {
     "data": {
      "text/plain": [
       "1605968119"
      ]
     },
     "execution_count": 42,
     "metadata": {},
     "output_type": "execute_result"
    }
   ],
   "source": [
    "scores = sorted([calc_points(r) for r in reaming])\n",
    "scores[len(scores)//2]"
   ]
  }
 ],
 "metadata": {
  "interpreter": {
   "hash": "e7370f93d1d0cde622a1f8e1c04877d8463912d04d973331ad4851f04de6915a"
  },
  "kernelspec": {
   "display_name": "Python 3.9.9 64-bit",
   "language": "python",
   "name": "python3"
  },
  "language_info": {
   "codemirror_mode": {
    "name": "ipython",
    "version": 3
   },
   "file_extension": ".py",
   "mimetype": "text/x-python",
   "name": "python",
   "nbconvert_exporter": "python",
   "pygments_lexer": "ipython3",
   "version": "3.9.9"
  },
  "orig_nbformat": 4
 },
 "nbformat": 4,
 "nbformat_minor": 2
}
