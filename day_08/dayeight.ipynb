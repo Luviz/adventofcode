{
 "cells": [
  {
   "cell_type": "code",
   "execution_count": 2,
   "metadata": {},
   "outputs": [
    {
     "data": {
      "text/plain": [
       "(['acedgfb',\n",
       "  'cdfbe',\n",
       "  'gcdfa',\n",
       "  'fbcad',\n",
       "  'dab',\n",
       "  'cefabd',\n",
       "  'cdfgeb',\n",
       "  'eafb',\n",
       "  'cagedb',\n",
       "  'ab'],\n",
       " ['cdfeb', 'fcadb', 'cdfeb', 'cdbaf'])"
      ]
     },
     "execution_count": 2,
     "metadata": {},
     "output_type": "execute_result"
    }
   ],
   "source": [
    "str = \"acedgfb cdfbe gcdfa fbcad dab cefabd cdfgeb eafb cagedb ab | cdfeb fcadb cdfeb cdbaf\"\n",
    "l, r = str.split(\"|\")\n",
    "l = l.strip().split(' ')\n",
    "r = r.strip().split(' ')\n",
    "\n",
    "l,r"
   ]
  },
  {
   "cell_type": "code",
   "execution_count": 51,
   "metadata": {},
   "outputs": [
    {
     "data": {
      "text/plain": [
       "([7, 5, 5, 5, 3, 6, 6, 4, 6, 2], [5, 5, 5, 5])"
      ]
     },
     "execution_count": 51,
     "metadata": {},
     "output_type": "execute_result"
    }
   ],
   "source": [
    "[len(s) for s in l ],  [len(s) for s in r]"
   ]
  },
  {
   "cell_type": "code",
   "execution_count": 52,
   "metadata": {},
   "outputs": [],
   "source": [
    "# 2 seg == 1 \n",
    "# 3 seg == 7\n",
    "# 7 seg == 8\n",
    "segments = [6, 2, 5, 5, 4, 5, 6, 3, 7, 6] "
   ]
  },
  {
   "cell_type": "markdown",
   "metadata": {},
   "source": [
    "```\n",
    "  0:      1:      2:      3:      4:\n",
    " aaaa    ....    aaaa    aaaa    ....\n",
    "b    c  .    c  .    c  .    c  b    c\n",
    "b    c  .    c  .    c  .    c  b    c\n",
    " ....    ....    dddd    dddd    dddd\n",
    "e    f  .    f  e    .  .    f  .    f\n",
    "e    f  .    f  e    .  .    f  .    f\n",
    " gggg    ....    gggg    gggg    ....\n",
    "\n",
    "  5:      6:      7:      8:      9:\n",
    " aaaa    aaaa    aaaa    aaaa    aaaa\n",
    "b    .  b    .  .    c  b    c  b    c\n",
    "b    .  b    .  .    c  b    c  b    c\n",
    " dddd    dddd    ....    dddd    dddd\n",
    ".    f  e    f  .    f  e    f  .    f\n",
    ".    f  e    f  .    f  e    f  .    f\n",
    " gggg    gggg    ....    gggg    gggg\n",
    "\n",
    "```\n",
    "```\n",
    "abcdefg \n",
    "bdfgc \n",
    "ebdfa \n",
    "fgbad \n",
    "dag \n",
    "bcfagd \n",
    "bdfecg \n",
    "cafg \n",
    "baecdg \n",
    "ag \n",
    "| bdfcg fbadg bdfcg bdgaf\n",
    "\n",
    "```"
   ]
  },
  {
   "cell_type": "code",
   "execution_count": 100,
   "metadata": {},
   "outputs": [
    {
     "data": {
      "text/plain": [
       "[('a',), ('b',), ('c',), ('d',), ('e',), ('f',), ('g',)]"
      ]
     },
     "execution_count": 100,
     "metadata": {},
     "output_type": "execute_result"
    }
   ],
   "source": [
    "list(zip(\"abcdefg\"))"
   ]
  },
  {
   "cell_type": "code",
   "execution_count": 139,
   "metadata": {},
   "outputs": [],
   "source": [
    "# normal_segments = [c for c in \"abcdefg\"]\n",
    "normal_segments = [c for c in \"acedgfb\"]\n",
    "\n",
    "def try_get_digets(string):\n",
    "    str_arr = string.split(\" \")\n",
    "    set_segments = {}\n",
    "    for ix, s in enumerate(str_arr):\n",
    "        if (len(s) == 2):\n",
    "            # set_segments['c'] = str_arr[ix][0]\n",
    "            # set_segments['f'] = str_arr[ix][1]\n",
    "            str_arr[ix] = \"1\"\n",
    "        if (len(s) == 4):\n",
    "            # set_segments['b'] = str_arr[ix][0]\n",
    "            # set_segments['c'] = str_arr[ix][1]\n",
    "            # set_segments['d'] = str_arr[ix][2]\n",
    "            # set_segments['f'] = str_arr[ix][3]\n",
    "            str_arr[ix] = \"4\"\n",
    "        if (len(s) == 3):\n",
    "            # set_segments['a'] = str_arr[ix][0]\n",
    "            # set_segments['c'] = str_arr[ix][1]\n",
    "            # set_segments['f'] = str_arr[ix][2]\n",
    "            str_arr[ix] = \"7\"\n",
    "        if (len(s) == 7):\n",
    "            for i, ch in enumerate(s):\n",
    "                set_segments[ch] = normal_segments[i]\n",
    "            str_arr[ix] = \"8\"\n",
    "\n",
    "    return \" \".join(str_arr), set_segments\n"
   ]
  },
  {
   "cell_type": "code",
   "execution_count": 159,
   "metadata": {},
   "outputs": [
    {
     "name": "stdout",
     "output_type": "stream",
     "text": [
      "acedgfb cdfbe gcdfa fbcad dab cefabd cdfgeb eafb cagedb ab | cdfeb fcadb cdfeb cdbaf\n",
      "8 cdfbe gcdfa fbcad 7 cefabd cdfgeb 4 cagedb 1 | cdfeb fcadb cdfeb cdbaf\n",
      "{'a': 'a', 'c': 'b', 'e': 'c', 'd': 'd', 'g': 'e', 'f': 'f', 'b': 'g'}\n"
     ]
    }
   ],
   "source": [
    "print(str)\n",
    "out, new_seg = try_get_digets(str)\n",
    "print(out)\n",
    "print(new_seg)"
   ]
  },
  {
   "cell_type": "code",
   "execution_count": 157,
   "metadata": {},
   "outputs": [
    {
     "data": {
      "text/plain": [
       "['gbcefa eac acfbg ae dcabfg begcdaf ecgba fgaedc beaf gcbde | cbgfa gedcb fgecab fbagdc',\n",
       " 'fb adceb febagd edgafcb cbfega gecadf dgfb dfeag baefd baf | gbdf gbfd fgebac dfega',\n",
       " 'dgabec cfgeb cfb cefd cdabfg gbdce fc begdfc gfbea febacdg | bcfdaeg cf fc gecabdf',\n",
       " 'gadfce acdgf bgaec gbfdca acgbd dceagfb agfdbe dbfc gbd bd | dgb cbadg cagdb cfbd',\n",
       " 'edcbafg ab ecfdb dacfeg bcag aeb fgaebd bfecga eacgf bcaef | ba eab cdgefa gcab',\n",
       " 'gbdcfea adfcge ebc be fegcbd ecfbad efgcd ebdg gacfb fcebg | cbgefd defcg cbefdg eafgcdb',\n",
       " 'fbace afdb gafbdce bd acbedf ecdabg fgeabc edgfc befcd dcb | ecdfb fcegab badgefc dafb',\n",
       " 'dbgcf fgadce aefcdb fe baef aegcbd fec aedbc bfced agefbdc | cfgbdea fe abecd efc',\n",
       " 'fabec efg aegd bafdg abfge egfdcb eg gbfecad bdafcg gbdefa | cegfbd efg fgabd bedgacf',\n",
       " 'dbcfeg ad edgfc egacfd bacdfg febca cefad adf eadg fdcebga | agdcbfe cfead fcdea ad',\n",
       " 'eg edg cgaedbf egbfad adcfbe begcd bcade bgfdc gacebd egac | aceg eg ge ged',\n",
       " 'gaecdb dgaeb ecagb egbafc cafgebd cead efdbgc agbfd de edg | ed daebg egd gacfbe',\n",
       " 'bag degfa bcadgef gcfb bg fgdba ecbfda bdcgfa abfcd gedcab | gafdb edgaf bag edcagfb',\n",
       " 'eb egafcb bafcd acgebfd efcdga cbegfd bega cgeaf ebf cbafe | fgcae eabg fdbcge agbe',\n",
       " 'fdcabeg cbadge cfgdb ebaf agdfec bac bfadce bdcaf efcda ba | ba bgeadfc cgdbea ab',\n",
       " 'deagcf ac cebfg gedfba cadb caf gadbefc dbgaf facbg dcagfb | ac gcdbafe ca fca',\n",
       " 'cdgef be gfbed gdbaf cagdeb fgcbdea gdfbca abef afdegb dbe | bed cgdebfa abdegf bfea',\n",
       " 'geafdb afc dcgfa daefcgb adgfb egfcd ca bfeacd bdgcaf cgba | gcba ca bgdeaf afbdg',\n",
       " 'fgcdae bdceg bfe bacf afcedgb cbedf afcde bf edbcaf ebdafg | cdfea bagdef bcefd cdfae',\n",
       " 'efgabd efgbd edab bd feagd ebgcf acdegf gecbdaf gfdacb dgb | bgd bdcafg bgd dbafcg',\n",
       " 'aedcg dfbaceg egd efdca afeg bacedf ge dbefgc cabgd fdaecg | eg dge agfdec deg',\n",
       " 'fge abefgd acdef eg fgdab adgbfc egfad dcbegf bgae bcdgfae | bfdgcea fge fegbda cgdfba',\n",
       " 'becgda efdgac ab bcefd fbaged ebgdcaf bae cabg cgdea ebadc | fbgade eab efdcga egafdb',\n",
       " 'cdfeb badgec acbfed bafcd efdbgca cde gbfed ce acef cagdfb | dbefc dbcef bfacd ce',\n",
       " 'aefg gabced efgdb dgfbc agfedb egb ecdabf abfde gaecbdf ge | ge dabgef bdfae dbefg',\n",
       " 'cedga egbdfa dge dgafbec gface dcabgf ed adgcb becd adbgec | abgcd bcgda dceb fadegb',\n",
       " 'fdebag caf aecgdbf fdgc fc cdefa dgacef edfag fegbac adceb | fc afedgb gfacbe afbdeg',\n",
       " 'egacf adfge fbgcea gacb ca caf aegdcfb fcbeg bdcefa edgfbc | ac dbgfaec fgaec agfdbec',\n",
       " 'ceagdbf egbcdf fa bgfcae afbd abedgf gaefd edfbg aef adcge | edgfa fea gfdbe bgfeca',\n",
       " 'cfeg fcbdga ebagcd bgf ebacg afbgce gf fdgeacb fbeag aedfb | gcfe abdegc egfc bcagfe',\n",
       " 'begdfca fdeba daecfg bfg fabeg fegca efcbdg gb bgac gbface | agbc badef aefbd fcbdega',\n",
       " 'aecfgb bac gfaedbc fedbac edcfag fcdb dacef cb ebadc eagdb | adbfegc edbga eafcd bca',\n",
       " 'fdgbaec cdfbag bfaegc ae aefcdb afe eadcf fdcba bdae cgefd | gcfde cafebg aefgbc dafbc',\n",
       " 'fgbdcea bf ebfgca fgb efbd dfcga ebagd dbfega cabegd fabgd | dcafg bedf fdbe befd',\n",
       " 'abcge cgde cbagf fdeacb egdba dfbgea ce egbdcfa bdagce cae | daefbc bedga egadb decg',\n",
       " 'dbcgefa gf fabdc agbecf gcfad afbcdg ceadg bfgd cdfbae gcf | gf bfdac dbgf gf',\n",
       " 'cfbedag cbfgad be eabcgd baec cgdab fbgeda gbedc bde cgdef | baec gdacb afbcgd abegdc',\n",
       " 'gbeac gbaced faged dab gcafeb db deagb eagdbcf abdgfc bedc | feadcgb db bdec cgeabfd',\n",
       " 'becagf facegd cdaeb dag gd cfabdg bdcag bgdf abgfc dcbgefa | gd gadbc gdbf cbagd',\n",
       " 'gde cdgea bfdgce aefg cbdga aecgdf cdafe faedbc dcgbfea eg | agbdc ge ged cfead',\n",
       " 'ba eacbd ebgcd eadcf dba dcbfea bafc agedfc defagbc bfgaed | ba edcgb afbdec cadgebf',\n",
       " 'dgfcbea bafgd dbfeag cdfab gf dfg egdcba gaebd gefb gdceaf | deagb egdacfb bfge fcdgae',\n",
       " 'cbadfg fgcade edgba dagbf agf gecbdaf af fdgbc bdcgef fcba | dfcbge bfgdc acfb fa',\n",
       " 'be febdc edfcbg fgeb ceadgb dface fgbdc bacdfg edb cfdageb | eb faedc gbef gcbdfea',\n",
       " 'bgcedaf gafcd fgade afc aedfbg ac fcaedg ecbfda cdbgf egca | fgdbae fcgad fac fca',\n",
       " 'cbeadf bac fegab cb cebgfda acfegd cafbe acdfe dcbe cadfbg | bc fgbdaec fedac gefba',\n",
       " 'cdefb dfcbge cdaef ad egacdb fadceb eagcf aed ebcfgad dabf | edbagc cfbdea fbda edbcf',\n",
       " 'cdbfgae cgedb fdgbe egafb dabfge df fbad cafdge edf abgecf | fabd bfdgae daegfc faegbcd',\n",
       " 'acgefbd agbf aefbc egbafc bef fdeacg dcefbg bdcea acegf fb | fb efdacg fb agbf',\n",
       " 'bgdace aegbdcf gabfe afdg feacbg cbdef ad eadfb badefg dba | da da bfgae adfg',\n",
       " 'daegc dgebaf aebgf ecagfbd fbde bda db abfgec abcgdf agebd | bad bad fgabde bd',\n",
       " 'cgabe gafed bedc aedbg bgaecf bd ebgdca cabfdeg gdb bfcgda | ebagdc bd ecdb abedfgc',\n",
       " 'bgfde fdceagb fec gdceab acfg cgefb bgcae becafd cfbgae cf | cf fec gfac gfbdeac',\n",
       " 'fb bcdgae cdfae dbage bef dfebga bafde bgdf cgfbeda gbeacf | gdbf fb bfdaeg fegabc',\n",
       " 'be gbfe dbfce gbfdca edb gbdfc eagdcb edfac cgabedf dgcbef | cfgabed aecdgb fgeb fgcbad',\n",
       " 'cabfd abfdeg abcfeg fbeac daec afd aebcdf da fdgcb gabfdce | adcefb dfacb adf agefbd',\n",
       " 'bagdfe efac ebcgd eadcbf cgfabd bfe fe cegdfab cdbaf fbced | bfe edfbc dgefbca befdc',\n",
       " 'bcd bfecg adce cd fgcabd fgaedcb abedfg cgbed bcgade egdba | bfdgcea caed deacbg dbc',\n",
       " 'fbadgc afecd dbgfaec adbfeg agdecf fac gaec cebdf fgead ca | cfead ca befcd geabfd',\n",
       " 'gaebcd gfaebc ga egacd gfbced faced agc cgebd dagb fcdageb | dbcge bdeagfc cefdbag gca',\n",
       " 'cb fegac fgbac gacbfd acebdf cab abfdg fdebga cgdb fbeacdg | bc cfgabd acgfb afegc',\n",
       " 'gfbda afec fe bdegca afcbeg ebgca abefg efb gcedbf bagfced | efdcbg agbef ef face',\n",
       " 'fecgba cgdefab agcedb ce dcae cedgb egbad ecb dbcfg abegfd | ce gdbae ceb dbafeg',\n",
       " 'edacg fdbace cb bfdga dcagb cdbgfa bfcg abc fbcgaed gfabed | fcgb gcdfba cab adbcef',\n",
       " 'bgefcad becfda afdeg afdceg be fabdge ebd gcbad deabg fgeb | edb bde bcefda gcedfa',\n",
       " 'gaecdf dcag gfa gcfed cabef gcefa ga dcbgef bfdgaec bgdeaf | cdga cfged afg ag',\n",
       " 'bc gbdace gcbaf gfcad bcgaef bca ecfb dcfbgea gafeb fgadbe | cbef cfgab bc gabfc',\n",
       " 'aef dcfgbe cfbeag dacbe cgfa fa egcdafb febca edbagf fgebc | dabec fcag afgc fbcage',\n",
       " 'deb bgcda bcade dcfage fdgbce ceagbdf afbe dabfce afedc be | deb ebdfagc fabedc fgbecd',\n",
       " 'caebd dafceg afdb fea ecafdb egdbacf fa cdbgea cbeaf bfcge | befdac ecbad fecab cegbda',\n",
       " 'baegf gcdefb ea dgcbaef efa febdag dbegf fgbca aebd aecfgd | fegab ae gbdef gcbedaf',\n",
       " 'ecdbgf cga dgbae bgefc cfaegd ecfagb egcba ca dabfgce bcfa | gcdfae dbcfeg acgbe bgecf',\n",
       " 'bdacfe gedfcba bgdfca dgf edgc becgdf eabfg bcdef gd dbgef | cged gfdacb cegd abcedf',\n",
       " 'gcba gefcdba fac gfadeb dgfac dbfcga gdbaf dacbef ac cegfd | bdceagf fgdebac bgca gfcde',\n",
       " 'dgfabc gbfad gac cfgb edagbfc gdcaf dbcaeg badfeg cdaef gc | dgabf fbdag cg gc',\n",
       " 'eagbc efbgad afe dceafbg bafgdc afbdg fageb fe gdfe fdabec | bdgaf bfeag fe eagbdf',\n",
       " 'fbd cbefga dcba feabd db egdaf afedgcb dbecgf bfcea efdcba | bcad bcefga db fbdae',\n",
       " 'gafeb ecfdabg faebdc dgfa fg cgeba bfdegc eabfd dbgfae gfe | bcgdfe dfga agebf dfga',\n",
       " 'cdfgeb cb cbea bgdaf cfgba egfcba egacf fgdceab bgc caegfd | dacefgb dfgcae gadefc bgc',\n",
       " 'fgcbead feagb bdceaf gacb abgfce cbefa eag fdbge ag afdceg | bgca dfaecb gabc cabg',\n",
       " 'ebcfd ecfgd fbae cgfadb be feadbgc ecb fecbad cbdega cdabf | be efba aefb eb',\n",
       " 'egafc ed agcfbed fbgeac dfge egcdfa egbcad eda daecf cdfba | bfdac eda aegcf gcfeba',\n",
       " 'afegd geba cgfebd gfe ge gdbcaef badfg badcgf ebdfag cdaef | faegd gbecfd gef fbgad',\n",
       " 'edacgb cade cdagfb gbeadf acfegbd egd adcgb cdgbe bfgce de | gdcebfa dge abdcg cafdgb',\n",
       " 'adge efgac dfacg edafgc becdaf eafgbc gfbedac dcgbf ad acd | fbacdeg ad adeg beafdgc',\n",
       " 'dfgc bgcde bacdef ebcgfa ecfgb dfgcbae gedba cd gdfbce edc | egfbcd agcefb fbagce aegdbcf',\n",
       " 'ecgfba dagebfc gfbd cefda fcg bgacde gdcab gf gbdfca gfcda | gbadec dbacge fg gdfcaeb',\n",
       " 'cbadgef gafed eb bdfe dgaecf cbagf egb eabgf degcab defbag | agfed acgbdef egfda gadfbe',\n",
       " 'abdfgec afgeb gd ceadbf gde adebg caebd efgacd cedgba bdcg | febadcg bcdg gdbc geacdf',\n",
       " 'gafebc gfca gcbadef abdcge ecf aefbc dbeaf cgbea fc egfbcd | bdfae cgaf bcadeg cf',\n",
       " 'bcefagd decbfa cgfad fgdb gdeabc cfagbd cagef gd dcbaf dgc | acgbde afbedc edbacg cgd',\n",
       " 'bgacfd fbcgaed dacbf gadcb aegbcd cf fbaed gfac bcf fgbecd | fbdac bgecfd dcgab fc',\n",
       " 'cdafeg cb ecdb eabgfcd bdagcf dceaf dfbeac febga efcab abc | bc cfgdeab cb cb',\n",
       " 'bdcaef fcage gabce faegdb fc cfa cgdf gdfcae agbfecd geadf | cf fdgbeca cgbdeaf eafdbg',\n",
       " 'cedfab acdg faedcbg cae fceag gecfd ac afgeb fadegc fbcdeg | ca cdegf ac cae',\n",
       " 'feg bfgade ge gfabce ceafg gfebcad feacd gdfcab bceg agcbf | fgcabe eg dabgefc egf',\n",
       " 'gbeacf edbgc bdg dfabge gd dacebg aecgb cbdef dcbfgea dcag | becgafd edgcb egdbfa afdgbce',\n",
       " 'gafbc gecdf gdacf adf dfbage cgebfd fegdca acde ad defbcag | ecad ad adf agdcf',\n",
       " 'fdebca bea caef aebgdcf dabef cgedba gfadb cdbfe gebdfc ae | ea ea gbadf dgebacf',\n",
       " 'ef efdc defagb cabdef cbfadeg bdcea afe bcefa cfagb cedagb | dfec acefb ef caedbfg',\n",
       " 'gade adefcg bcfae fedgc fad fadec cdfgabe ad dabgfc dcgebf | daegcfb dgae da decbfga',\n",
       " 'facgd geadb cae cbge acebgd ce ebdfgca gceda fbgead efadbc | ebcg egbc cbfdae adegb',\n",
       " 'agecbd feabcd afecg df dbeca adebgfc cfbd afdegb edacf fde | aefgc fadebc dcbf fde',\n",
       " 'gce cdega bcadge eg acbfed cabde dcagf edcgbaf egba gfcbed | bdgeca daebc dbcae ceg',\n",
       " 'gcaf ecfbag egcdfab badegc bfcea bcega egfcbd cfb cf aedbf | fbc gfbecd fc cafg',\n",
       " 'becdga beg ecdafg gbfec cgafb fbed dacfegb be cebdfg gecdf | afcged agefdc egcadf fbde',\n",
       " 'eacd cfe efdgabc acedfg ce dfcge fgbcd gcaebf dfeag dfeagb | adec fgced cef ec',\n",
       " 'adecbfg gfa cfgbe ag afced cfdeba cafeg adge fdgcab cegafd | gacdbf gecbadf eagd efacd',\n",
       " 'cfbade dfbegc dbefc gbd adfgc cebg dgfcb dgcaebf gb afgebd | bg cfagd cedbf gb',\n",
       " 'fbca cgebdf cb acedfg dgeba dcb acedb fcade ebdgfca eadbcf | deagb cb cbd eadbg',\n",
       " 'bdgac cgf bgcefa acgfdb fc dgfae dfcag aegbdc abcgedf fbdc | fcg fcg bdfc fgc',\n",
       " 'efadbg adbfc ac acbedgf ecbdga fcdgb aebfdc cfea adefb cda | cad febda dgeafb dfcabe',\n",
       " 'fdcab ecfbga gcafbd daef ef bcfed efb afcbde dbecg cadegfb | abdefc dbgce gdfbace bef',\n",
       " 'ecgfb gbda gafde baegfd gfbea bae ba edfcab adcgef bdafegc | gacdfe afcged edbacf adebcf',\n",
       " 'aebgdfc gdfe beg becgd dacbfe defgbc ebcgaf ge fdbce gacdb | ecgfadb egb abgdc gefdcb',\n",
       " 'eacgdf de fbdac bfgace aecbgfd dbfecg afceg dceaf ecd dgae | cgaef efacdg cagfebd cefga',\n",
       " 'bgde db dbf afbed fgedba fadgce decabfg faceb adefg fabcdg | bagfdc bd dfb afdbge',\n",
       " 'acbgdfe fgecad bdefa geacbd ab aeb bgaf bedfc feagd dgefab | dagcfbe bfade gbedac ab',\n",
       " 'gafcbd ecgfb acedbg gbf abcegf gf gebac bcfed cdbfgea faeg | abegfdc feag gbf geadcb',\n",
       " 'fcbea da edbcaf cedfg cdfea dafb gabced eafbcg cdeafbg acd | cad fabd acedf fcgbea',\n",
       " 'fgc cg afegd egac facbedg gdcef efbgda efgdac bafdcg fdcbe | gfc cfg decbf gfc',\n",
       " 'dfabcg gdbecf dgfea begfa egd cead dgaefc fadegcb cgfda ed | deg cgfda de gde',\n",
       " 'gbedc gdbcfa fb bcafeg bcf egdfca agbdcef gfbdc dfab gafdc | adbf fadgbc gdfac dfba',\n",
       " 'baecgfd fed abedcg fdabeg egacdf gcefb dbgfe bfda deabg df | bcgdafe df df dgaebc',\n",
       " 'cedabfg badfe cfgdae gcea fcdeg gbcefd eadgf cbdagf dag ag | bcadgf gfdea fdbecg fedab',\n",
       " 'bcg edfbc gdfc cgaebf beadcf becdg cbadefg eagbd fgdbec cg | fbcade cgfbea gc cg',\n",
       " 'gfdecba dgeabc decbgf fbae dbaeg adegf abdgef agcfd fe efg | dgefa fbdgae becfadg egf',\n",
       " 'fab bf dbef bdacfg eabcg dgafeb aebfg fdgae afgdce fcedbag | agedf afb fb efdb',\n",
       " 'daceb bf afgb fdbca cgdefa dgcfa bfcgda cgebadf ebcdgf bdf | gbaf bdace dfb ceadgfb',\n",
       " 'deb ebgfacd fgbadc dfbecg ecadb fbaced afde cbage de dabcf | de dgbface afdcb fead',\n",
       " 'baefc fge agecfd eg gdeb fdagb eagbf dfgbaec dgcabf dbgafe | ebcfgad afcbe gdfaeb dgcafe',\n",
       " 'fdgbe afbc bae bdaceg fagbe bacdfge cgafed ab fgace aebfgc | ebgdf adfgbec cdabgfe fegac',\n",
       " 'be fbaedc adegfb dbecf gcadfb gfdce afbdc aceb fbe gdbefac | feb cgdef bace be',\n",
       " 'ebgfca gcafd ead gcadbef acebfd aegbc gcdae bdeg ed gcdeba | cadge dea eda bafgce',\n",
       " 'df bdceaf aefgd afdegc geadc bagef dgfc fdgbcae bcdaeg daf | fda begfdca agdfebc fcdg',\n",
       " 'fadegb cfadgeb gabdf fdceag ecdabf gaf fg afedb acdgb fegb | cbgda fdcgae bgafd efgabcd',\n",
       " 'bcfdae gbecd gedcafb aedfgc gaeb gdaebc ge cfdgb acebd egd | dbface eg cedgb edg',\n",
       " 'edfa acbfge af abcfd dcebfa fca gaecfbd bdaecg cgdfb ecbad | gdbcf degcba bafcd fa',\n",
       " 'dgcfba cfbgd bfgad geabfdc gbfea cfad abd efcgdb edabcg da | dfabg adb dab fdac',\n",
       " 'edcagb dgbafe fcaebdg adfe bgafc gfabe gfe fe ebgda gefdbc | gdeba afegb ef gfecbd',\n",
       " 'fdbca fc cabed abgdf edcabg ecaf fbc dcafeb cfabedg gdecbf | baced ebagcfd fbdga ceaf',\n",
       " 'cfaebg acfge bg efcgda bcfed egb bagf baedgc cfebg gacfebd | fabecgd bge geb afgb',\n",
       " 'bcagdf fcaeb baefdc cdgea abd gcbeaf ebdf cdbae gdbcfea db | cdgae edfb afcdeb gecda',\n",
       " 'gcefab de dfcageb gebcf gdbce cgdab agdfbe dbcegf bed fdce | de ed ebd bcagfe',\n",
       " 'feabdg cf fcaedb fgebc cdgeb bacfeg cfb beafg ceagbdf cafg | afgc fbc cf gbfec',\n",
       " 'aebfg bcdga dfgbaec cbaegd ade cegd fbcdag daegb de edacfb | cbadfe abgdc de agcdb',\n",
       " 'cdafg gafcbd cebdf dafgeb ae dbgeacf edgcfa aceg fdcea afe | efdgca acdfe dcgaf adfcg',\n",
       " 'dbeaf dgfceb cfbae adcb cedfba bd fgade bfd bdegcfa bgcfea | fgedbc daebf efdba ceafb',\n",
       " 'cedfga edgbf gbfdeca cdage cgbefa bcda gdeba ba gbdeca bag | gdbef gecda gab acbfeg',\n",
       " 'cbfage gbfdce aedbc bdagce db fbcaedg edb afdce bgda cebag | bdgefac bde agbd agbfedc',\n",
       " 'cabe fbaced adgbf fbcedag aedfc ebfdgc gcdaef eb bfaed feb | bef facde fdcea aecb',\n",
       " 'afcdgbe gdecf fgeabd gaf ag fbdae abge agdfe gcbfda facebd | aebdgf eabgfd dbcefa edagf',\n",
       " 'df cfd gaebcf bedacgf dcbgf dgecb gabfc bafd fbagdc egdfac | gcbdf cabdgf fd ecdbg',\n",
       " 'adcfb cbdef adcebg fa dbcag baf gdcfba fgca bfdgace bfegad | af fcga dcbef baf',\n",
       " 'ecdfa acgbfd ecdfab fdaebcg agfce dae dbef bcafd gbdace ed | fcdae ed befd eda',\n",
       " 'cf agecf gadbce badfgc caf gacbe eafdg beadgcf ebfc cagefb | cf bfgeac gdacbf agfde',\n",
       " 'dfab fdcgbe afg fa bgfcd gedafc bagcf dcabgf gbcea gcdfbea | egfcdb bfacg fa gbdeafc',\n",
       " 'cedgbf gfedc adbgce cgadbef fcdag acfe gca bdafg ac acedfg | eagdcf bgcfde acdfg ac',\n",
       " 'cabed gdbcfea bacfge egc cg gefad acdge dbcg fcebad gecadb | cdbg fdcgeba bgfcae cegad',\n",
       " 'gdebac fg efgd afgceb fabdc agdbe afdegb gaf gdfba eafdcgb | gf gebcaf agf bedcfga',\n",
       " 'fcbdeag dbegc fgb fgead fb gdfbe afbedg bcfaeg bdfa gfdace | gfeda efbagd defgb fbg',\n",
       " 'cagdbfe fcegd fdgac fe feabdg cebdg gdcfbe bacdeg fcbe edf | bacegd gfdce fe adbgec',\n",
       " 'afdebc fcebgd fgdabec gedf egb cbfed ge bgacd gdecb bacegf | egb egb cdabfe dgef',\n",
       " 'agbd cagde adgcfe dfgaecb begfc cab aegbcd dbcafe ab ebcga | aecbgd becgfda gbda fdabce',\n",
       " 'cbedfg fgeadb gadcfeb fecag df fbda eagbd bgcade def deagf | gcdeba feagd edf cagbed',\n",
       " 'gefdcba adcfg baedcf dag fdcbga cfbda gd eacdgb gdfb fgace | gda fdbac dcfbae fdbg',\n",
       " 'gfaed fc bdafge efdbgc adcgef cbfdage adcef cdf dabce cgaf | degaf fcd cbfgdea ecbdafg',\n",
       " 'fac cbfeag aegdcfb aegfd aecgb cf abedgc becf afegc dbgfac | cefga eagbc acbedg acf',\n",
       " 'fegdac aegfdcb fdeg adgce cbade adgcfb dfcag eg gea bfgcea | fdcga adefbcg efgd cgdafb',\n",
       " 'cgedabf adg egadcb gebcfa fdab cfgad ecdgf ad badcfg agbfc | egcdba da ecbfga ecgbad',\n",
       " 'fg gadfec afcg decaf fbdcge gfd badfceg ebfdca adgeb faedg | dfg cgfa afcg fedac',\n",
       " 'fgbce df agedc edf dcegfa aegdcb edfgab fbegdac efcdg fcda | aedcg dgcef dcbaeg edf',\n",
       " 'abfgc egf beagdf ef gface cbedag gadfbec cfdaeg cdaeg fdec | dfec fegdba gef cfde',\n",
       " 'gefca dcfebag cdafe fagdec gfed fcbdga dfa aecdb cbgefa fd | cbaegdf daf agfdce ebfacgd',\n",
       " 'gc efbdga gacdfb bfced dgbfa cdfbg gcd facg aefbgdc ecbdga | agfc abgcfd cgd acbgfd',\n",
       " 'abdg bcdaf cdfbag gb cdabgef afgceb dgbfc gbf dcbefa efdcg | dbag gb bg dgab',\n",
       " 'efdgbca edgf dceaf bdefca gad ecgbad dg cafgb eagfdc acfdg | bdacfeg gacedb cdegfa agdfc',\n",
       " 'agdefcb eag dfgab fcgbad fcgeb degafb ecdbag bagfe ae dfae | efda gfeacbd ea deagbc',\n",
       " 'dbe afgde bdcf gadefcb degbca becaf eabfd fdbcea befcag bd | bed ebacdg gcfabde fceab',\n",
       " 'bade gcbfd abf fecbdga dafecg dbgfa gcbefa abfdge ba egdaf | ba gdacef fgacde cbafged',\n",
       " 'bfae dbgfcea bdceg ba dcbfga geabd adb eagfd cefagd befgad | efagdc ab ba egfad',\n",
       " 'ef dgebcf ecfb fecabdg edfbg defcga fgbad egdcb fde bedcga | gdcebaf edgcb aedfgcb efacdgb',\n",
       " 'caefbg dfcgbe gadbfe gcefa gbcafed ebgaf cgba ceg cg adecf | gafce ecg cge egfbadc',\n",
       " 'adfgebc ebdac bgafec cdgb aecgd gce egabcd cdaefb cg degfa | becfad gc gdaec dgbc',\n",
       " 'bfdega gad gebfcd egcdba egdaf edgbf ag ecdfa bafg bdgfaec | fegbdca dga fgcedb cgdeba',\n",
       " 'gafed dg cabefd cfdgbea cbagfd aebfdg edgb fdg fgeac dfabe | fgbeda eadfb fgd agcfe',\n",
       " 'gfc afcbeg cfagd acgedf fdabg gc cgde acdfe fecgdab ecfbad | gbfad cfg eacdgf dfeagc',\n",
       " 'da gdafb bgacf abdcgf dcag fgbeacd faebcd fda bacgfe degbf | ad cfbga edgfb ebdfca',\n",
       " 'dbacgfe agebdc bdcf feabcd cedba aefcd fad fgace gabfde df | adfce bfcd cabedf cfdb',\n",
       " 'cfgaed adb dfeac becdaf ba fcba dbfage gcbde dafcegb deacb | dab agdefb cfadbe dba',\n",
       " 'degbac dea dbaecfg dabc dafgce eadbg ebdgf cebgaf bgeac ad | gefbd gbecda egdcaf ebcag',\n",
       " 'bdefca abcdfg gcefabd gbc eafbg baedc begac deagcb egdc cg | acegb defgcba cbaed cebdfag',\n",
       " 'bdfcg gdbfe gecf befadg dgc dgecba afbdc dfbecag cbdegf gc | cg dgc fcge acbegd',\n",
       " 'aefbgdc gbeac badcg gaebfc dfbeag gdfbc gaedbc deca ad abd | gbcaed bgefcda eacd efagcb',\n",
       " 'gbcfda gfacb ebacg aecfdb ace edbag cegf bfgeca daecfgb ce | cgef gfce ce cea',\n",
       " 'gaecb ga gac edcfbg dafgbc cfebdag gbaefc fegcb acbde fgae | ag ag cag afge',\n",
       " 'agcdfb cgbfa bfgeac eg gec cbdage fgceabd cfbge edfbc fgea | bcfga cfebg cge bdcef',\n",
       " 'ed edaf afdcbg gdace fecdgb bdgcefa gacdf edg ecdgaf bcgea | egbfdc aecgd fgdca cabdegf',\n",
       " 'bcgfda fcbegd acfbeg baefg ge agbcdef gcea beg eadfb fbacg | baefg faebg fdgcbe bgdecf',\n",
       " 'fdgbe aefbdcg cfebd gceb cbgadf fbc gfdbae ecfda cb bcgefd | fgbdce gdfacb bfc egbc']"
      ]
     },
     "execution_count": 157,
     "metadata": {},
     "output_type": "execute_result"
    }
   ],
   "source": [
    "\n",
    "def get_data(filename):\n",
    "    with open(filename) as f:\n",
    "        return [l.strip() for l in f.readlines()]\n",
    "\n",
    "data =get_data(\"input\") \n",
    "# data = get_data(\"test\") \n",
    "data"
   ]
  },
  {
   "cell_type": "code",
   "execution_count": 158,
   "metadata": {},
   "outputs": [
    {
     "data": {
      "text/plain": [
       "412"
      ]
     },
     "execution_count": 158,
     "metadata": {},
     "output_type": "execute_result"
    }
   ],
   "source": [
    "tot = 0\n",
    "for ln in data:\n",
    "    meh, _ = try_get_digets(ln)\n",
    "    # print(meh.split(' '))\n",
    "    digits = [int(s) for s in meh.split('| ')[1].split(' ') if s in \"0123456789\"]\n",
    "    tot += len(digits) \n",
    "tot"
   ]
  }
 ],
 "metadata": {
  "interpreter": {
   "hash": "e7370f93d1d0cde622a1f8e1c04877d8463912d04d973331ad4851f04de6915a"
  },
  "kernelspec": {
   "display_name": "Python 3.9.9 64-bit",
   "language": "python",
   "name": "python3"
  },
  "language_info": {
   "codemirror_mode": {
    "name": "ipython",
    "version": 3
   },
   "file_extension": ".py",
   "mimetype": "text/x-python",
   "name": "python",
   "nbconvert_exporter": "python",
   "pygments_lexer": "ipython3",
   "version": "3.9.9"
  },
  "orig_nbformat": 4
 },
 "nbformat": 4,
 "nbformat_minor": 2
}
