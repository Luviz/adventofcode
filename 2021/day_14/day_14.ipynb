{
 "cells": [
  {
   "cell_type": "code",
   "execution_count": 1,
   "metadata": {},
   "outputs": [],
   "source": [
    "def get_data(filename):\n",
    "    with open(filename) as file:\n",
    "        template = file.readline().strip()\n",
    "        lines = {\n",
    "            f.strip().split(\" -> \")[0]: f.strip().split(\" -> \")[1]\n",
    "            for f in file.readlines()\n",
    "            if not f.startswith(\"\\n\")\n",
    "        }\n",
    "    return template, lines\n"
   ]
  },
  {
   "cell_type": "code",
   "execution_count": 2,
   "metadata": {},
   "outputs": [
    {
     "data": {
      "text/plain": [
       "('NNCB',\n",
       " {'CH': 'B',\n",
       "  'HH': 'N',\n",
       "  'CB': 'H',\n",
       "  'NH': 'C',\n",
       "  'HB': 'C',\n",
       "  'HC': 'B',\n",
       "  'HN': 'C',\n",
       "  'NN': 'C',\n",
       "  'BH': 'H',\n",
       "  'NC': 'B',\n",
       "  'NB': 'B',\n",
       "  'BN': 'B',\n",
       "  'BB': 'N',\n",
       "  'BC': 'B',\n",
       "  'CC': 'N',\n",
       "  'CN': 'C'})"
      ]
     },
     "execution_count": 2,
     "metadata": {},
     "output_type": "execute_result"
    }
   ],
   "source": [
    "get_data(\"test\")\n"
   ]
  },
  {
   "cell_type": "code",
   "execution_count": 3,
   "metadata": {},
   "outputs": [],
   "source": [
    "def insert_pairs(pair: str, key_pairs: dict[str, str]):\n",
    "    if len(pair) != 2:\n",
    "        return pair\n",
    "    a, b = list(pair)\n",
    "    return f\"{a}{key_pairs[pair]}{b}\"\n"
   ]
  },
  {
   "cell_type": "code",
   "execution_count": 4,
   "metadata": {},
   "outputs": [
    {
     "name": "stdout",
     "output_type": "stream",
     "text": [
      "0 NN NCN CN\n",
      "1 NC NBC CNBC\n",
      "2 CB CHB CNBCHB\n"
     ]
    }
   ],
   "source": [
    "template, pair_insertion = get_data(\"test\")\n",
    "new_str = \"\"\n",
    "for ix in range(0, len(template) - 1, 1):\n",
    "    pair = template[ix : ix + 2]\n",
    "    new_set = insert_pairs(pair, pair_insertion)\n",
    "    new_str += new_set[1:]\n",
    "    print(ix, pair, new_set, new_str)\n"
   ]
  },
  {
   "cell_type": "code",
   "execution_count": 5,
   "metadata": {},
   "outputs": [
    {
     "data": {
      "text/plain": [
       "7"
      ]
     },
     "execution_count": 5,
     "metadata": {},
     "output_type": "execute_result"
    }
   ],
   "source": [
    "keys = list(pair_insertion.keys())\n",
    "values = list(pair_insertion.values())\n",
    "keys.index(\"NN\")\n"
   ]
  },
  {
   "cell_type": "code",
   "execution_count": 6,
   "metadata": {},
   "outputs": [],
   "source": [
    "def get_key_ix(ch1, ch2, min=0):\n",
    "    return 10 * ord(ch1) + ord(ch2) - min\n",
    "\n",
    "\n",
    "key_arr = [get_key_ix(*list(k)) for k in keys]\n",
    "min_val = min(key_arr)\n",
    "key_arr = [get_key_ix(*list(k), min=min_val) for k in keys]\n"
   ]
  },
  {
   "cell_type": "code",
   "execution_count": null,
   "metadata": {},
   "outputs": [],
   "source": []
  },
  {
   "cell_type": "code",
   "execution_count": 7,
   "metadata": {},
   "outputs": [],
   "source": [
    "from numba import prange, njit\n",
    "\n",
    "template, pair_insertion = get_data(\"input\")\n",
    "\n",
    "\n",
    "def insert_pairs(pair: str, key_pairs):\n",
    "    if len(pair) != 2:\n",
    "        return pair\n",
    "    a, b = list(pair)\n",
    "    return f\"{a}{key_pairs[pair]}{b}\"\n",
    "\n",
    "\n",
    "def run_step(temp: str):\n",
    "    return temp[0] + \"\".join(\n",
    "        [\n",
    "            insert_pairs(temp[ix : ix + 2], pair_insertion)[1:]\n",
    "            for ix in range(len(temp) - 1)\n",
    "        ]\n",
    "    )\n"
   ]
  },
  {
   "cell_type": "code",
   "execution_count": 8,
   "metadata": {},
   "outputs": [
    {
     "name": "stdout",
     "output_type": "stream",
     "text": [
      "1 39 5\n",
      "2 77 7\n",
      "3 153 17\n",
      "4 305 30\n",
      "5 609 66\n",
      "6 1217 140\n",
      "7 2433 280\n",
      "8 4865 594\n",
      "9 9729 1187\n",
      "10 19457 2408\n"
     ]
    }
   ],
   "source": [
    "from collections import Counter\n",
    "\n",
    "for i in range(10):\n",
    "    template = run_step(template)\n",
    "    c = Counter(template)\n",
    "    print(i + 1, len(template), max(c.values()) - min(c.values()))\n"
   ]
  },
  {
   "cell_type": "markdown",
   "metadata": {},
   "source": [
    "## part 2\n"
   ]
  },
  {
   "cell_type": "code",
   "execution_count": 9,
   "metadata": {},
   "outputs": [
    {
     "name": "stdout",
     "output_type": "stream",
     "text": [
      "0 38913\n",
      "1 77825\n",
      "2 155649\n",
      "3 311297\n",
      "4 622593\n",
      "5 1245185\n",
      "6 2490369\n",
      "7 4980737\n",
      "8 9961473\n",
      "9 19922945\n",
      "10 19922945 2500350\n"
     ]
    }
   ],
   "source": [
    "from collections import Counter\n",
    "\n",
    "for i in range(10):\n",
    "    template = run_step(template)\n",
    "    print(i, len(template))\n",
    "c = Counter(template)\n",
    "print(i + 1, len(template), max(c.values()) - min(c.values()))\n"
   ]
  },
  {
   "cell_type": "code",
   "execution_count": 10,
   "metadata": {},
   "outputs": [
    {
     "name": "stdout",
     "output_type": "stream",
     "text": [
      "Counter({'KH': 1, 'HS': 1, 'SN': 1, 'NH': 1, 'HF': 1, 'FK': 1, 'KV': 1, 'VV': 1, 'VS': 1, 'SV': 1, 'VP': 1, 'PS': 1, 'SC': 1, 'CV': 1, 'VH': 1, 'HB': 1, 'BH': 1, 'HN': 1, 'NP': 1}) Counter({'H': 4, 'V': 4, 'S': 3, 'K': 2, 'N': 2, 'P': 2, 'F': 1, 'C': 1, 'B': 1})\n"
     ]
    },
    {
     "data": {
      "text/plain": [
       "2651311098752"
      ]
     },
     "execution_count": 10,
     "metadata": {},
     "output_type": "execute_result"
    }
   ],
   "source": [
    "template, pair_insertion = get_data(\"input\")\n",
    "\n",
    "tmp_str = Counter(a+b for a,b in zip(template, template[1:]))\n",
    "chars = Counter(template)\n",
    "print(tmp_str, chars)\n",
    "\n",
    "for _ in range(40):\n",
    "    tmp = Counter()\n",
    "    for (c1,c2),value in tmp_str.items():\n",
    "        mc = pair_insertion[c1+c2]\n",
    "        tmp[c1+mc] += value\n",
    "        tmp[mc+c2] += value\n",
    "        chars[mc] += value\n",
    "    tmp_str=tmp\n",
    "# chars = Counter(polymer)\n",
    "max(chars.values()) - min(chars.values())"
   ]
  }
 ],
 "metadata": {
  "interpreter": {
   "hash": "e7370f93d1d0cde622a1f8e1c04877d8463912d04d973331ad4851f04de6915a"
  },
  "kernelspec": {
   "display_name": "Python 3.10.1 64-bit",
   "language": "python",
   "name": "python3"
  },
  "language_info": {
   "codemirror_mode": {
    "name": "ipython",
    "version": 3
   },
   "file_extension": ".py",
   "mimetype": "text/x-python",
   "name": "python",
   "nbconvert_exporter": "python",
   "pygments_lexer": "ipython3",
   "version": "3.10.1"
  },
  "orig_nbformat": 4
 },
 "nbformat": 4,
 "nbformat_minor": 2
}
