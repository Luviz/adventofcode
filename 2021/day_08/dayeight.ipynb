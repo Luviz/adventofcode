{
 "cells": [
  {
   "cell_type": "code",
   "execution_count": 1,
   "metadata": {},
   "outputs": [
    {
     "data": {
      "text/plain": [
       "(['acedgfb',\n",
       "  'cdfbe',\n",
       "  'gcdfa',\n",
       "  'fbcad',\n",
       "  'dab',\n",
       "  'cefabd',\n",
       "  'cdfgeb',\n",
       "  'eafb',\n",
       "  'cagedb',\n",
       "  'ab'],\n",
       " ['cdfeb', 'fcadb', 'cdfeb', 'cdbaf'])"
      ]
     },
     "execution_count": 1,
     "metadata": {},
     "output_type": "execute_result"
    }
   ],
   "source": [
    "string = \"acedgfb cdfbe gcdfa fbcad dab cefabd cdfgeb eafb cagedb ab | cdfeb fcadb cdfeb cdbaf\"\n",
    "l, r = string.split(\"|\")\n",
    "l = l.strip().split(' ')\n",
    "r = r.strip().split(' ')\n",
    "\n",
    "l,r"
   ]
  },
  {
   "cell_type": "code",
   "execution_count": 2,
   "metadata": {},
   "outputs": [
    {
     "data": {
      "text/plain": [
       "([7, 5, 5, 5, 3, 6, 6, 4, 6, 2], [5, 5, 5, 5])"
      ]
     },
     "execution_count": 2,
     "metadata": {},
     "output_type": "execute_result"
    }
   ],
   "source": [
    "[len(s) for s in l ],  [len(s) for s in r]"
   ]
  },
  {
   "cell_type": "code",
   "execution_count": 3,
   "metadata": {},
   "outputs": [],
   "source": [
    "# 2 seg == 1 \n",
    "# 3 seg == 7\n",
    "# 7 seg == 8\n",
    "segments = [6, 2, 5, 5, 4, 5, 6, 3, 7, 6] "
   ]
  },
  {
   "cell_type": "markdown",
   "metadata": {},
   "source": [
    "```\n",
    "  0:      1:      2:      3:      4:\n",
    " aaaa    ....    aaaa    aaaa    ....\n",
    "b    c  .    c  .    c  .    c  b    c\n",
    "b    c  .    c  .    c  .    c  b    c\n",
    " ....    ....    dddd    dddd    dddd\n",
    "e    f  .    f  e    .  .    f  .    f\n",
    "e    f  .    f  e    .  .    f  .    f\n",
    " gggg    ....    gggg    gggg    ....\n",
    "\n",
    "  5:      6:      7:      8:      9:\n",
    " aaaa    aaaa    aaaa    aaaa    aaaa\n",
    "b    .  b    .  .    c  b    c  b    c\n",
    "b    .  b    .  .    c  b    c  b    c\n",
    " dddd    dddd    ....    dddd    dddd\n",
    ".    f  e    f  .    f  e    f  .    f\n",
    ".    f  e    f  .    f  e    f  .    f\n",
    " gggg    gggg    ....    gggg    gggg\n",
    "\n",
    "```\n",
    "```\n",
    "abcdefg \n",
    "bdfgc \n",
    "ebdfa \n",
    "fgbad \n",
    "dag \n",
    "bcfagd \n",
    "bdfecg \n",
    "cafg \n",
    "baecdg \n",
    "ag \n",
    "| bdfcg fbadg bdfcg bdgaf\n",
    "\n",
    "```"
   ]
  },
  {
   "cell_type": "code",
   "execution_count": 4,
   "metadata": {},
   "outputs": [],
   "source": [
    "org_signals = {\n",
    "    \"abcefg\": 0,\n",
    "    \"cf\": 1,\n",
    "    \"acdeg\": 2,\n",
    "    \"acdfg\": 3,\n",
    "    \"bcdf\": 4,\n",
    "    \"abdfg\": 5,\n",
    "    \"abdefg\": 6,\n",
    "    \"acf\": 7,\n",
    "    \"abcdefg\": 8,\n",
    "    \"abcdfg\": 9,\n",
    "}"
   ]
  },
  {
   "cell_type": "code",
   "execution_count": 5,
   "metadata": {},
   "outputs": [],
   "source": [
    "# normal_segments = [c for c in \"abcdefg\"]\n",
    "normal_segments = [c for c in \"acedgfb\"]\n",
    "\n",
    "def try_get_digets(string):\n",
    "    str_arr = string.split(\" \")\n",
    "    set_segments = {}\n",
    "    for ix, s in enumerate(str_arr):\n",
    "        if (len(s) == 2):\n",
    "            # set_segments['c'] = str_arr[ix][0]\n",
    "            # set_segments['f'] = str_arr[ix][1]\n",
    "            str_arr[ix] = \"1\"\n",
    "        if (len(s) == 4):\n",
    "            # set_segments['b'] = str_arr[ix][0]\n",
    "            # set_segments['c'] = str_arr[ix][1]\n",
    "            # set_segments['d'] = str_arr[ix][2]\n",
    "            # set_segments['f'] = str_arr[ix][3]\n",
    "            str_arr[ix] = \"4\"\n",
    "        if (len(s) == 3):\n",
    "            # set_segments['a'] = str_arr[ix][0]\n",
    "            # set_segments['c'] = str_arr[ix][1]\n",
    "            # set_segments['f'] = str_arr[ix][2]\n",
    "            str_arr[ix] = \"7\"\n",
    "        if (len(s) == 7):\n",
    "            for i, ch in enumerate(s):\n",
    "                set_segments[ch] = normal_segments[i]\n",
    "            str_arr[ix] = \"8\"\n",
    "\n",
    "    return \" \".join(str_arr), set_segments\n"
   ]
  },
  {
   "cell_type": "code",
   "execution_count": 6,
   "metadata": {},
   "outputs": [
    {
     "name": "stdout",
     "output_type": "stream",
     "text": [
      "<class 'str'>\n",
      "\n",
      "{}\n"
     ]
    }
   ],
   "source": [
    "print(str)\n",
    "out, new_seg = try_get_digets(str)\n",
    "print(out)\n",
    "print(new_seg)"
   ]
  },
  {
   "cell_type": "code",
   "execution_count": 7,
   "metadata": {},
   "outputs": [],
   "source": [
    "\n",
    "def get_data(filename):\n",
    "    with open(filename) as f:\n",
    "        return [l.strip() for l in f.readlines()]\n",
    "\n",
    "data = get_data(\"input\") \n",
    "# data = get_data(\"test\") \n",
    "# data"
   ]
  },
  {
   "cell_type": "code",
   "execution_count": 8,
   "metadata": {},
   "outputs": [
    {
     "data": {
      "text/plain": [
       "412"
      ]
     },
     "execution_count": 8,
     "metadata": {},
     "output_type": "execute_result"
    }
   ],
   "source": [
    "tot = 0\n",
    "for ln in data:\n",
    "    meh, _ = try_get_digets(ln)\n",
    "    # print(ln , meh.split(' '))\n",
    "    digits = [int(s) for s in meh.split('| ')[1].split(' ') if s in \"0123456789\"]\n",
    "    tot += len(digits) \n",
    "tot"
   ]
  },
  {
   "cell_type": "code",
   "execution_count": 9,
   "metadata": {},
   "outputs": [],
   "source": [
    "from itertools import permutations\n",
    "signal_perm = list(permutations(\"abcdefg\"))"
   ]
  },
  {
   "cell_type": "code",
   "execution_count": 10,
   "metadata": {},
   "outputs": [
    {
     "data": {
      "text/plain": [
       "978171"
      ]
     },
     "execution_count": 10,
     "metadata": {},
     "output_type": "execute_result"
    }
   ],
   "source": [
    "results = []\n",
    "for ln in data:\n",
    "    sigs, outputs = [l.strip().split() for l in ln.split('|')]\n",
    "    # print(sigs,outputs)\n",
    "    for perm in signal_perm:\n",
    "        to = str.maketrans('abcdefg',\"\".join(perm))\n",
    "        decoded_sigs = [\"\".join(sorted(code.translate(to))) for code in sigs]\n",
    "        decoded_outputs = [\"\".join(sorted(code.translate(to))) for code in outputs]\n",
    "        check = [org_signals.get(s) for s in decoded_sigs if org_signals.get(s) != None]\n",
    "        if len(check) == 10 :\n",
    "            # print(ln)\n",
    "            res = [org_signals.get(s) for s in decoded_outputs if org_signals.get(s) != None]\n",
    "            results.append(int(''.join([str(r) for r in res])))\n",
    "            # print(sigs,outputs)\n",
    "\n",
    "sum(results)        \n",
    "    "
   ]
  }
 ],
 "metadata": {
  "interpreter": {
   "hash": "e7370f93d1d0cde622a1f8e1c04877d8463912d04d973331ad4851f04de6915a"
  },
  "kernelspec": {
   "display_name": "Python 3.9.9 64-bit",
   "language": "python",
   "name": "python3"
  },
  "language_info": {
   "codemirror_mode": {
    "name": "ipython",
    "version": 3
   },
   "file_extension": ".py",
   "mimetype": "text/x-python",
   "name": "python",
   "nbconvert_exporter": "python",
   "pygments_lexer": "ipython3",
   "version": "3.9.9"
  },
  "orig_nbformat": 4
 },
 "nbformat": 4,
 "nbformat_minor": 2
}
