{
 "cells": [
  {
   "cell_type": "code",
   "execution_count": 4,
   "metadata": {},
   "outputs": [],
   "source": [
    "from matplotlib import pyplot as plt\n",
    "import numpy as np"
   ]
  },
  {
   "cell_type": "code",
   "execution_count": 3,
   "metadata": {},
   "outputs": [],
   "source": [
    "class particle:\n",
    "    x:int\n",
    "    y:int\n",
    "\n",
    "    vel_x: int\n",
    "    vel_y: int\n",
    "    \n",
    "    acc_x: int = -1\n",
    "    acc_y: int = -1\n",
    "\n",
    "    def __inti__(self, x,y, vel_x, vel_y):\n",
    "        self.x = x\n",
    "        self.y = y\n",
    "\n",
    "        self.vel_x = vel_x\n",
    "        self.vel_y = vel_y\n",
    "\n",
    "    def iter(self):\n",
    "        self.iter_x()\n",
    "        self.iter_y()\n",
    "\n",
    "    def iter_x(self):\n",
    "        self.x -= self.vel_x\n",
    "        if self.vel_x <= 0:\n",
    "            self.vel_x += self.acc_x\n",
    "\n",
    "    def iter_y(self):\n",
    "        self.y -= self.vel_y\n",
    "        self.vel_y += self.acc_y\n",
    "\n",
    "    def get_pos(self):\n",
    "        return (self.x, self.y)\n",
    "    \n"
   ]
  },
  {
   "cell_type": "code",
   "execution_count": 56,
   "metadata": {},
   "outputs": [
    {
     "data": {
      "image/png": "[encoded data removed]",
      "text/plain": [
       "<Figure size 720x720 with 1 Axes>"
      ]
     },
     "metadata": {
      "needs_background": "light"
     },
     "output_type": "display_data"
    }
   ],
   "source": [
    "## sample data one\n",
    "## target area: x=20..30, y=-10..-5\n",
    "\n",
    "sub = (10,0)\n",
    "map= np.zeros((45,15),dtype=np.int8)\n",
    "\n",
    "map[sub] = 8\n",
    "target_str = (20+sub[0], 10+sub[1])\n",
    "target_end = (30+sub[0], 5+sub[1])\n",
    "\n",
    "map[20+10:30+10, 5+0:10+0] = 3\n",
    "# print(map)\n",
    "fig, ax = plt.subplots()\n",
    "ax.imshow(map, cmap='tab10')\n",
    "fig.set_size_inches(10,10)"
   ]
  },
  {
   "cell_type": "markdown",
   "metadata": {},
   "source": [
    "## input data\n",
    "target area: x=207..263, y=-115..-63"
   ]
  },
  {
   "cell_type": "code",
   "execution_count": null,
   "metadata": {},
   "outputs": [],
   "source": [
    "sub = (10, 0)\n",
    "target_x = [207+sub[0],263+sub[0]]\n",
    "target_x = [115+sub[1],115+sub[1]]\n"
   ]
  }
 ],
 "metadata": {
  "interpreter": {
   "hash": "e7370f93d1d0cde622a1f8e1c04877d8463912d04d973331ad4851f04de6915a"
  },
  "kernelspec": {
   "display_name": "Python 3.10.1 64-bit",
   "language": "python",
   "name": "python3"
  },
  "language_info": {
   "codemirror_mode": {
    "name": "ipython",
    "version": 3
   },
   "file_extension": ".py",
   "mimetype": "text/x-python",
   "name": "python",
   "nbconvert_exporter": "python",
   "pygments_lexer": "ipython3",
   "version": "3.10.1"
  },
  "orig_nbformat": 4
 },
 "nbformat": 4,
 "nbformat_minor": 2
}
