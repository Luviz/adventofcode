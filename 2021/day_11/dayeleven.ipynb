{
 "cells": [
  {
   "cell_type": "code",
   "execution_count": 1,
   "metadata": {},
   "outputs": [],
   "source": [
    "import numpy as np\n",
    "from matplotlib import pyplot as plt\n"
   ]
  },
  {
   "cell_type": "code",
   "execution_count": 2,
   "metadata": {},
   "outputs": [],
   "source": [
    "def get_data(filename):\n",
    "    with open(filename) as f:\n",
    "        return [list(ln.strip()) for ln in f.readlines()]\n"
   ]
  },
  {
   "cell_type": "code",
   "execution_count": 3,
   "metadata": {},
   "outputs": [],
   "source": [
    "data = get_data(\"test\")\n",
    "# data = get_data('input')\n",
    "# data"
   ]
  },
  {
   "cell_type": "code",
   "execution_count": 4,
   "metadata": {},
   "outputs": [],
   "source": [
    "def get_neighbors(x, y, x_lim, y_lim):\n",
    "    neighbors = []\n",
    "    for dx in range(-1, 2):\n",
    "        for dy in range(-1, 2):\n",
    "            if dx != 0 or dy != 0:\n",
    "                neighbors.append((x + dx, y + dy))\n",
    "    return [\n",
    "        (x, y)\n",
    "        for x, y in neighbors\n",
    "        if (x >= 0 and y >= 0) and (x < x_lim and y < y_lim)\n",
    "    ]\n",
    "    # return [(x, y) for x, y in neighbors if ]\n",
    "\n",
    "\n",
    "def iter_days(grid: np.matrix):\n",
    "    def discharge(x, y):\n",
    "        if f\"{x},{y}\" in discharged:\n",
    "            return\n",
    "\n",
    "        discharged.add(f\"{x},{y}\")\n",
    "        # print(get_neighbors(x,y, *grid.shape))\n",
    "        for d_x, d_y in get_neighbors(x, y, *grid.shape):\n",
    "            grid[d_x, d_y] = grid[d_x, d_y] + 1\n",
    "            if grid[d_x, d_y] > 9:\n",
    "                discharge(d_x, d_y)\n",
    "\n",
    "    while True:\n",
    "        grid += 1\n",
    "        discharged = set()\n",
    "        discharges = np.array(np.where(grid > 9)).transpose()\n",
    "        for dis in discharges:\n",
    "            discharge(*dis)\n",
    "        grid[grid > 9] = 0\n",
    "        yield grid\n"
   ]
  },
  {
   "cell_type": "code",
   "execution_count": 5,
   "metadata": {},
   "outputs": [],
   "source": [
    "def drawGrid(data, vmin=0, vmax=10):\n",
    "    extent = (0, data.shape[1], data.shape[0], 0)\n",
    "    _, ax = plt.subplots()\n",
    "    ax.imshow(data, cmap=\"gist_gray_r\", vmin=vmin, vmax=vmax, extent=extent)\n",
    "    ax.grid(color=\"#bfacac\", linewidth=2, which=\"both\")\n",
    "    ax.set_frame_on(False)\n"
   ]
  },
  {
   "cell_type": "code",
   "execution_count": 6,
   "metadata": {},
   "outputs": [],
   "source": [
    "def prep_run(filename):\n",
    "    data = get_data(filename)\n",
    "    # data = get_data('input')\n",
    "\n",
    "    matrix = np.matrix(data, dtype=np.int32)\n",
    "    grid_gen = iter_days(matrix)\n",
    "    iterCount = 0\n",
    "    flashes = 0\n",
    "    return grid_gen, matrix, iterCount, flashes\n",
    "    # matrix\n"
   ]
  },
  {
   "cell_type": "code",
   "execution_count": 7,
   "metadata": {},
   "outputs": [
    {
     "data": {
      "text/plain": [
       "matrix([[5, 4, 8, 3, 1, 4, 3, 2, 2, 3],\n",
       "        [2, 7, 4, 5, 8, 5, 4, 7, 1, 1],\n",
       "        [5, 2, 6, 4, 5, 5, 6, 1, 7, 3],\n",
       "        [6, 1, 4, 1, 3, 3, 6, 1, 4, 6],\n",
       "        [6, 3, 5, 7, 3, 8, 5, 4, 7, 8],\n",
       "        [4, 1, 6, 7, 5, 2, 4, 6, 4, 5],\n",
       "        [2, 1, 7, 6, 8, 4, 1, 7, 2, 1],\n",
       "        [6, 8, 8, 2, 8, 8, 1, 1, 3, 4],\n",
       "        [4, 8, 4, 6, 8, 4, 8, 5, 5, 4],\n",
       "        [5, 2, 8, 3, 7, 5, 1, 5, 2, 6]], dtype=int32)"
      ]
     },
     "execution_count": 7,
     "metadata": {},
     "output_type": "execute_result"
    },
    {
     "data": {
      "image/png": "[encoded data removed]",
      "text/plain": [
       "<Figure size 432x288 with 1 Axes>"
      ]
     },
     "metadata": {
      "needs_background": "light"
     },
     "output_type": "display_data"
    }
   ],
   "source": [
    "grid_gen, g, iterCount, flashes = prep_run(\"test\")\n",
    "drawGrid(g, vmax=5)\n",
    "g\n"
   ]
  },
  {
   "cell_type": "code",
   "execution_count": 8,
   "metadata": {},
   "outputs": [
    {
     "name": "stdout",
     "output_type": "stream",
     "text": [
      "iterCount = 1 | flashes = 35\n"
     ]
    },
    {
     "data": {
      "text/plain": [
       "matrix([[8, 8, 0, 7, 4, 7, 6, 5, 5, 5],\n",
       "        [5, 0, 8, 9, 0, 8, 7, 0, 5, 4],\n",
       "        [8, 5, 9, 7, 8, 8, 9, 6, 0, 8],\n",
       "        [8, 4, 8, 5, 7, 6, 9, 6, 0, 0],\n",
       "        [8, 7, 0, 0, 9, 0, 8, 8, 0, 0],\n",
       "        [6, 6, 0, 0, 0, 8, 8, 9, 8, 9],\n",
       "        [6, 8, 0, 0, 0, 0, 5, 9, 4, 3],\n",
       "        [0, 0, 0, 0, 0, 0, 7, 4, 5, 6],\n",
       "        [9, 0, 0, 0, 0, 0, 0, 8, 7, 6],\n",
       "        [8, 7, 0, 0, 0, 0, 6, 8, 4, 8]], dtype=int32)"
      ]
     },
     "execution_count": 8,
     "metadata": {},
     "output_type": "execute_result"
    },
    {
     "data": {
      "image/png": "[encoded data removed]",
      "text/plain": [
       "<Figure size 432x288 with 1 Axes>"
      ]
     },
     "metadata": {
      "needs_background": "light"
     },
     "output_type": "display_data"
    }
   ],
   "source": [
    "g = next(grid_gen)\n",
    "g = next(grid_gen)\n",
    "iterCount += 1\n",
    "flashes += sum(np.array(g).flatten() < 1)\n",
    "print(f\"{iterCount = } | {flashes = }\")\n",
    "\n",
    "# g[0,2] = 100\n",
    "drawGrid(g)\n",
    "g"
   ]
  },
  {
   "cell_type": "code",
   "execution_count": 35,
   "metadata": {},
   "outputs": [],
   "source": [
    "def prep_plt():\n",
    "    fig, ax = plt.subplots(1)\n",
    "    fig.set_size_inches(12,12)\n",
    "    def take_pick(grid, filename):\n",
    "        ax.imshow(grid, cmap='gist_gray_r', vmin=0, vmax=9)\n",
    "        fig.savefig(filename+'.png')\n",
    "    return take_pick"
   ]
  },
  {
   "cell_type": "code",
   "execution_count": 38,
   "metadata": {},
   "outputs": [
    {
     "name": "stdout",
     "output_type": "stream",
     "text": [
      "303\n",
      "313\n",
      "323\n",
      "333\n",
      "343\n",
      "iterCount = 351 | flashes = 5049\n"
     ]
    },
    {
     "data": {
      "image/png": "[encoded data removed]",
      "text/plain": [
       "<Figure size 864x864 with 1 Axes>"
      ]
     },
     "metadata": {
      "needs_background": "light"
     },
     "output_type": "display_data"
    }
   ],
   "source": [
    "grid_gen, g, iterCount, flashes = prep_run(\"input\")\n",
    "record = prep_plt()\n",
    "for i in range(351):\n",
    "    g = next(grid_gen)\n",
    "    iterCount += 1\n",
    "    flashes += sum(np.array(g).flatten() < 1)\n",
    "    # record(g, f\"img/Dumbo_Octopus_{iterCount:03d}\")\n",
    "    if g.sum() == 0:\n",
    "        print(iterCount)\n",
    "    # print(g, end='\\n\\n')\n",
    "\n",
    "print(f\"{iterCount = } | {flashes = }\")\n"
   ]
  }
 ],
 "metadata": {
  "interpreter": {
   "hash": "e7370f93d1d0cde622a1f8e1c04877d8463912d04d973331ad4851f04de6915a"
  },
  "kernelspec": {
   "display_name": "Python 3.9.9 64-bit",
   "language": "python",
   "name": "python3"
  },
  "language_info": {
   "codemirror_mode": {
    "name": "ipython",
    "version": 3
   },
   "file_extension": ".py",
   "mimetype": "text/x-python",
   "name": "python",
   "nbconvert_exporter": "python",
   "pygments_lexer": "ipython3",
   "version": "3.9.9"
  },
  "orig_nbformat": 4
 },
 "nbformat": 4,
 "nbformat_minor": 2
}
